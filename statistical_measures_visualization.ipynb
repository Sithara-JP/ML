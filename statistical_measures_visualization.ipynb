{
  "nbformat": 4,
  "nbformat_minor": 0,
  "metadata": {
    "kernelspec": {
      "display_name": "Python 3",
      "language": "python",
      "name": "python3"
    },
    "language_info": {
      "codemirror_mode": {
        "name": "ipython",
        "version": 3
      },
      "file_extension": ".py",
      "mimetype": "text/x-python",
      "name": "python",
      "nbconvert_exporter": "python",
      "pygments_lexer": "ipython3",
      "version": "3.5.2"
    },
    "colab": {
      "name": "statistical measures_visualization.ipynb",
      "provenance": [],
      "collapsed_sections": []
    }
  },
  "cells": [
    {
      "cell_type": "markdown",
      "metadata": {
        "id": "xD_-oDT4DkkJ"
      },
      "source": [
        "# Mean"
      ]
    },
    {
      "cell_type": "code",
      "metadata": {
        "id": "7U0O7q3yDkkO"
      },
      "source": [
        "import numpy as np\n",
        "import pandas as pd"
      ],
      "execution_count": 1,
      "outputs": []
    },
    {
      "cell_type": "code",
      "metadata": {
        "id": "FcCJltyRDkkQ"
      },
      "source": [
        "sample_list = [1, 2, 2, 2, 4, 5, 6, 6, 6, 9, 10, 10, 10, 11, 14, 14, 15, 18, 19, 20]"
      ],
      "execution_count": 2,
      "outputs": []
    },
    {
      "cell_type": "code",
      "metadata": {
        "id": "SEWWtnuaDkkQ"
      },
      "source": [
        "def cal_mean(data):\n",
        "    return sum(data)/(len(data)*1.0)"
      ],
      "execution_count": 3,
      "outputs": []
    },
    {
      "cell_type": "code",
      "metadata": {
        "colab": {
          "base_uri": "https://localhost:8080/"
        },
        "id": "LwMRWLN-DkkT",
        "outputId": "14df0042-8341-4cdc-9fac-4f04d6cbe410"
      },
      "source": [
        "cal_mean(sample_list)"
      ],
      "execution_count": 4,
      "outputs": [
        {
          "output_type": "execute_result",
          "data": {
            "text/plain": [
              "9.2"
            ]
          },
          "metadata": {},
          "execution_count": 4
        }
      ]
    },
    {
      "cell_type": "code",
      "metadata": {
        "id": "3YEb7uO9DkkV"
      },
      "source": [
        "my_np_list = np.asarray(sample_list)"
      ],
      "execution_count": 5,
      "outputs": []
    },
    {
      "cell_type": "code",
      "metadata": {
        "colab": {
          "base_uri": "https://localhost:8080/"
        },
        "id": "VtF6pooRDkkV",
        "outputId": "12b309cb-3b1d-4afa-e7cf-067e54d6f28b"
      },
      "source": [
        "np.mean(my_np_list)"
      ],
      "execution_count": 6,
      "outputs": [
        {
          "output_type": "execute_result",
          "data": {
            "text/plain": [
              "9.2"
            ]
          },
          "metadata": {},
          "execution_count": 6
        }
      ]
    },
    {
      "cell_type": "markdown",
      "metadata": {
        "id": "D3MLFzE0DkkW"
      },
      "source": [
        "### How mean is affected by extreme points"
      ]
    },
    {
      "cell_type": "code",
      "metadata": {
        "colab": {
          "base_uri": "https://localhost:8080/"
        },
        "id": "0ilYqrT3DkkX",
        "outputId": "a0f0b12d-103e-4d4d-f146-1987ba698d2a"
      },
      "source": [
        "sample_list.append(100)\n",
        "print(\"New List:\",sample_list)"
      ],
      "execution_count": 7,
      "outputs": [
        {
          "output_type": "stream",
          "name": "stdout",
          "text": [
            "New List: [1, 2, 2, 2, 4, 5, 6, 6, 6, 9, 10, 10, 10, 11, 14, 14, 15, 18, 19, 20, 100]\n"
          ]
        }
      ]
    },
    {
      "cell_type": "code",
      "metadata": {
        "colab": {
          "base_uri": "https://localhost:8080/"
        },
        "id": "fuBEo_EqDkkX",
        "outputId": "ea22734b-fe5a-43fd-9ab4-b045e14f8c12"
      },
      "source": [
        "cal_mean(sample_list)"
      ],
      "execution_count": 8,
      "outputs": [
        {
          "output_type": "execute_result",
          "data": {
            "text/plain": [
              "13.523809523809524"
            ]
          },
          "metadata": {},
          "execution_count": 8
        }
      ]
    },
    {
      "cell_type": "markdown",
      "metadata": {
        "id": "ehHLnouLDkkY"
      },
      "source": [
        "# Median"
      ]
    },
    {
      "cell_type": "code",
      "metadata": {
        "colab": {
          "base_uri": "https://localhost:8080/"
        },
        "id": "ux5GWAq5DkkY",
        "outputId": "c713153d-45fa-42b7-b02b-bba95ea3697d"
      },
      "source": [
        "np.median(sample_list)"
      ],
      "execution_count": 9,
      "outputs": [
        {
          "output_type": "execute_result",
          "data": {
            "text/plain": [
              "10.0"
            ]
          },
          "metadata": {},
          "execution_count": 9
        }
      ]
    },
    {
      "cell_type": "code",
      "metadata": {
        "colab": {
          "base_uri": "https://localhost:8080/"
        },
        "id": "2zR6kEGRDkkZ",
        "outputId": "43fba3f0-60d1-4510-8356-7470085cfada"
      },
      "source": [
        "sample_list"
      ],
      "execution_count": 10,
      "outputs": [
        {
          "output_type": "execute_result",
          "data": {
            "text/plain": [
              "[1, 2, 2, 2, 4, 5, 6, 6, 6, 9, 10, 10, 10, 11, 14, 14, 15, 18, 19, 20, 100]"
            ]
          },
          "metadata": {},
          "execution_count": 10
        }
      ]
    },
    {
      "cell_type": "code",
      "metadata": {
        "colab": {
          "base_uri": "https://localhost:8080/"
        },
        "id": "Jexs6ueADkka",
        "outputId": "6bfc8311-5283-4f80-e032-0bf8c2233ab4"
      },
      "source": [
        "np.median(my_np_list)"
      ],
      "execution_count": 11,
      "outputs": [
        {
          "output_type": "execute_result",
          "data": {
            "text/plain": [
              "9.5"
            ]
          },
          "metadata": {},
          "execution_count": 11
        }
      ]
    },
    {
      "cell_type": "code",
      "metadata": {
        "colab": {
          "base_uri": "https://localhost:8080/"
        },
        "id": "L7f0BjglDkka",
        "outputId": "ce92d70d-6ecb-41cd-b91c-1b4181c84b83"
      },
      "source": [
        "my_np_list"
      ],
      "execution_count": 12,
      "outputs": [
        {
          "output_type": "execute_result",
          "data": {
            "text/plain": [
              "array([ 1,  2,  2,  2,  4,  5,  6,  6,  6,  9, 10, 10, 10, 11, 14, 14, 15,\n",
              "       18, 19, 20])"
            ]
          },
          "metadata": {},
          "execution_count": 12
        }
      ]
    },
    {
      "cell_type": "markdown",
      "metadata": {
        "id": "QU9XPgQFDkkb"
      },
      "source": [
        "# Mode"
      ]
    },
    {
      "cell_type": "code",
      "metadata": {
        "id": "bRycSbTEDkkc"
      },
      "source": [
        "from scipy.stats import mode"
      ],
      "execution_count": 13,
      "outputs": []
    },
    {
      "cell_type": "code",
      "metadata": {
        "colab": {
          "base_uri": "https://localhost:8080/"
        },
        "id": "CJcpTI_xDkkc",
        "outputId": "20e593e3-1cef-45b9-bf96-67a4be82e4e6"
      },
      "source": [
        "mode(sample_list)"
      ],
      "execution_count": 14,
      "outputs": [
        {
          "output_type": "execute_result",
          "data": {
            "text/plain": [
              "ModeResult(mode=array([2]), count=array([3]))"
            ]
          },
          "metadata": {},
          "execution_count": 14
        }
      ]
    },
    {
      "cell_type": "markdown",
      "metadata": {
        "id": "h-yIsY6aDkkc"
      },
      "source": [
        "## Can be used over non-numeric data"
      ]
    },
    {
      "cell_type": "code",
      "metadata": {
        "id": "M-OUZ9RdDkkd"
      },
      "source": [
        "my_list_str = ['a', 'b', 'c', 'a', 'b', 'b', 'c', 'a', 'a', 'b', 'd']"
      ],
      "execution_count": 15,
      "outputs": []
    },
    {
      "cell_type": "code",
      "metadata": {
        "colab": {
          "base_uri": "https://localhost:8080/"
        },
        "id": "7q4HoHYuDkkd",
        "outputId": "1192aa61-0d5e-44fe-fb5b-1f25ae84e6e9"
      },
      "source": [
        "mode(my_list_str)"
      ],
      "execution_count": 16,
      "outputs": [
        {
          "output_type": "execute_result",
          "data": {
            "text/plain": [
              "ModeResult(mode=array(['a'], dtype='<U1'), count=array([4]))"
            ]
          },
          "metadata": {},
          "execution_count": 16
        }
      ]
    },
    {
      "cell_type": "markdown",
      "metadata": {
        "id": "hB4-Dmr_E6Mu"
      },
      "source": [
        "## Variannce and Standard Deviation"
      ]
    },
    {
      "cell_type": "code",
      "metadata": {
        "id": "17TZcnMRDkke"
      },
      "source": [
        "data=np.array([1, 2, 2, 2, 4, 5, 6, 6, 6, 9, 10, 10, 10, 11, 14, 14, 15, 18, 19, 20])"
      ],
      "execution_count": 17,
      "outputs": []
    },
    {
      "cell_type": "markdown",
      "metadata": {
        "id": "qkAmyA4hFffk"
      },
      "source": [
        "**Create the data using np.asarray. Differntiate between np.array and np.asarray**"
      ]
    },
    {
      "cell_type": "code",
      "metadata": {
        "id": "JWLKANLEw8Y5"
      },
      "source": [
        "my_np_data = np.asarray(data)"
      ],
      "execution_count": 18,
      "outputs": []
    },
    {
      "cell_type": "code",
      "metadata": {
        "colab": {
          "base_uri": "https://localhost:8080/"
        },
        "id": "SxJuzylOxWgd",
        "outputId": "ec9bc41f-0f83-4e9e-ea24-ba21b00a337f"
      },
      "source": [
        "my_np_data"
      ],
      "execution_count": 19,
      "outputs": [
        {
          "output_type": "execute_result",
          "data": {
            "text/plain": [
              "array([ 1,  2,  2,  2,  4,  5,  6,  6,  6,  9, 10, 10, 10, 11, 14, 14, 15,\n",
              "       18, 19, 20])"
            ]
          },
          "metadata": {},
          "execution_count": 19
        }
      ]
    },
    {
      "cell_type": "markdown",
      "metadata": {
        "id": "Yw-IGAV3SM84"
      },
      "source": [
        "The main difference is that array (by default) will make a copy of the object, while asarray will not unless necessary."
      ]
    },
    {
      "cell_type": "markdown",
      "metadata": {
        "id": "_QddC4Y_SDde"
      },
      "source": [
        "numpy.asarray(a, dtype=None, order=None)"
      ]
    },
    {
      "cell_type": "markdown",
      "metadata": {
        "id": "q9MmS9OZSFYf"
      },
      "source": [
        "numpy.array(object, dtype=None, copy=True, order=None, subok=False, ndmin=0)\n"
      ]
    },
    {
      "cell_type": "code",
      "metadata": {
        "colab": {
          "base_uri": "https://localhost:8080/"
        },
        "id": "OI82RpzJFKYU",
        "outputId": "c0f6d679-15b5-469e-8b68-b46f93e1cd60"
      },
      "source": [
        "np.var(data)"
      ],
      "execution_count": 20,
      "outputs": [
        {
          "output_type": "execute_result",
          "data": {
            "text/plain": [
              "33.66"
            ]
          },
          "metadata": {},
          "execution_count": 20
        }
      ]
    },
    {
      "cell_type": "code",
      "metadata": {
        "colab": {
          "base_uri": "https://localhost:8080/"
        },
        "id": "32ix4fnEFOK5",
        "outputId": "1c5dcb9a-1cee-4f92-c58a-ac283dc215af"
      },
      "source": [
        "np.std(data)"
      ],
      "execution_count": 21,
      "outputs": [
        {
          "output_type": "execute_result",
          "data": {
            "text/plain": [
              "5.801723881744114"
            ]
          },
          "metadata": {},
          "execution_count": 21
        }
      ]
    },
    {
      "cell_type": "markdown",
      "metadata": {
        "id": "66BHCKj7GJnT"
      },
      "source": [
        "##  Visualizing Statistical Measures"
      ]
    },
    {
      "cell_type": "code",
      "metadata": {
        "id": "MGrXdEuDFzyF"
      },
      "source": [
        "import seaborn as sns\n",
        "import matplotlib.pyplot as plt"
      ],
      "execution_count": 22,
      "outputs": []
    },
    {
      "cell_type": "code",
      "metadata": {
        "colab": {
          "base_uri": "https://localhost:8080/"
        },
        "id": "FmvlhDg1GT7I",
        "outputId": "cc4a151d-ee08-4521-9b8d-4857d0c2cb17"
      },
      "source": [
        "#Create random array of normal distribution\n",
        "x=np.random.normal(50,5,3000)\n",
        "print(x)\n",
        "print(x.shape)"
      ],
      "execution_count": 23,
      "outputs": [
        {
          "output_type": "stream",
          "name": "stdout",
          "text": [
            "[44.63431853 49.22571619 57.80680019 ... 56.34762812 55.69215347\n",
            " 55.07606705]\n",
            "(3000,)\n"
          ]
        }
      ]
    },
    {
      "cell_type": "markdown",
      "metadata": {
        "id": "wVXSDzs0H8KU"
      },
      "source": [
        "## **Excercise 1**\n",
        "\n",
        "Find the maximum and minimum and calculate Max-**Min**"
      ]
    },
    {
      "cell_type": "code",
      "metadata": {
        "colab": {
          "base_uri": "https://localhost:8080/"
        },
        "id": "DSUAOt2kGmSy",
        "outputId": "dc1aae86-66d1-4e63-8e4c-8f8665d28dd0"
      },
      "source": [
        "print(\"Max is:\",max(x))\n",
        "print(\"Min is:\",min(x))\n",
        "print(\"Max-Min is:\",max(x)-min(x))\n",
        "#Find the minimum\n",
        "#calculate MAx-Min"
      ],
      "execution_count": 24,
      "outputs": [
        {
          "output_type": "stream",
          "name": "stdout",
          "text": [
            "Max is: 66.45085826948338\n",
            "Min is: 30.61570882787496\n",
            "Max-Min is: 35.835149441608415\n"
          ]
        }
      ]
    },
    {
      "cell_type": "markdown",
      "metadata": {
        "id": "TDRM73NMHN7f"
      },
      "source": [
        "### Frequency Histogram\n"
      ]
    },
    {
      "cell_type": "code",
      "metadata": {
        "colab": {
          "base_uri": "https://localhost:8080/",
          "height": 296
        },
        "id": "8gL-hd2WG0BY",
        "outputId": "d3df7db1-4594-4628-9d90-5b22e29952ca"
      },
      "source": [
        "#using Matplot lib\n",
        "plt.hist(x)\n",
        "plt.xlabel('Intervals')\n",
        "plt.ylabel('Frequency')"
      ],
      "execution_count": 25,
      "outputs": [
        {
          "output_type": "execute_result",
          "data": {
            "text/plain": [
              "Text(0, 0.5, 'Frequency')"
            ]
          },
          "metadata": {},
          "execution_count": 25
        },
        {
          "output_type": "display_data",
          "data": {
            "image/png": "[encoded data removed]",
            "text/plain": [
              "<Figure size 432x288 with 1 Axes>"
            ]
          },
          "metadata": {
            "needs_background": "light"
          }
        }
      ]
    },
    {
      "cell_type": "markdown",
      "metadata": {
        "id": "9iQvXlTfISLg"
      },
      "source": [
        "## **Excercise 2**\n",
        "\n",
        "Plot the frequency histogram using Seaborn. For Seaborn documentation click[ here](https://seaborn.pydata.org/tutorial/distributions.html).\n",
        "\n",
        "\n",
        "\n",
        "*  Plot the histogram with bin size 5\n",
        "*  Plot the histogram with bin size 10\n",
        "*  Plot the histogram with bin size 15\n",
        "*  Plot the histogram with bin size 50\n",
        "*  Plot the histogram with bin size 30\n",
        "\n",
        "Write down your inferences\n",
        "\n",
        "\n",
        "\n"
      ]
    },
    {
      "cell_type": "code",
      "metadata": {
        "colab": {
          "base_uri": "https://localhost:8080/",
          "height": 386
        },
        "id": "ZJZXSEjgO28q",
        "outputId": "ff6601ed-5125-4986-8a9c-e364abcf6822"
      },
      "source": [
        "penguins = sns.load_dataset(\"penguins\")\n",
        "sns.displot(penguins, x=\"flipper_length_mm\", binwidth=5)"
      ],
      "execution_count": 26,
      "outputs": [
        {
          "output_type": "execute_result",
          "data": {
            "text/plain": [
              "<seaborn.axisgrid.FacetGrid at 0x7f0003f1c750>"
            ]
          },
          "metadata": {},
          "execution_count": 26
        },
        {
          "output_type": "display_data",
          "data": {
            "image/png": "[encoded data removed]",
            "text/plain": [
              "<Figure size 360x360 with 1 Axes>"
            ]
          },
          "metadata": {
            "needs_background": "light"
          }
        }
      ]
    },
    {
      "cell_type": "code",
      "metadata": {
        "colab": {
          "base_uri": "https://localhost:8080/",
          "height": 386
        },
        "id": "rTwvgzoEP58g",
        "outputId": "17b685c9-dfa4-427e-a49a-b905d1831861"
      },
      "source": [
        "sns.displot(penguins, x=\"flipper_length_mm\", binwidth=3)"
      ],
      "execution_count": 27,
      "outputs": [
        {
          "output_type": "execute_result",
          "data": {
            "text/plain": [
              "<seaborn.axisgrid.FacetGrid at 0x7efffb5a3dd0>"
            ]
          },
          "metadata": {},
          "execution_count": 27
        },
        {
          "output_type": "display_data",
          "data": {
            "image/png": "[encoded data removed]",
            "text/plain": [
              "<Figure size 360x360 with 1 Axes>"
            ]
          },
          "metadata": {
            "needs_background": "light"
          }
        }
      ]
    },
    {
      "cell_type": "code",
      "metadata": {
        "colab": {
          "base_uri": "https://localhost:8080/",
          "height": 386
        },
        "id": "IedyMynkQM5G",
        "outputId": "96a75169-e5fc-420b-dc77-6052640cc8dc"
      },
      "source": [
        "#Plot the histogram with bin size 5\n",
        "sns.displot(penguins, x=\"flipper_length_mm\", bins=5)"
      ],
      "execution_count": 28,
      "outputs": [
        {
          "output_type": "execute_result",
          "data": {
            "text/plain": [
              "<seaborn.axisgrid.FacetGrid at 0x7f0003f47750>"
            ]
          },
          "metadata": {},
          "execution_count": 28
        },
        {
          "output_type": "display_data",
          "data": {
            "image/png": "[encoded data removed]",
            "text/plain": [
              "<Figure size 360x360 with 1 Axes>"
            ]
          },
          "metadata": {
            "needs_background": "light"
          }
        }
      ]
    },
    {
      "cell_type": "code",
      "metadata": {
        "colab": {
          "base_uri": "https://localhost:8080/",
          "height": 386
        },
        "id": "I_lRuH2bQUbA",
        "outputId": "6308c7b7-29af-4a83-def7-da28d6ed5d95"
      },
      "source": [
        "#Plot the histogram with bin size 10\n",
        "sns.displot(penguins, x=\"flipper_length_mm\", bins=10)"
      ],
      "execution_count": 29,
      "outputs": [
        {
          "output_type": "execute_result",
          "data": {
            "text/plain": [
              "<seaborn.axisgrid.FacetGrid at 0x7efffa3bd610>"
            ]
          },
          "metadata": {},
          "execution_count": 29
        },
        {
          "output_type": "display_data",
          "data": {
            "image/png": "[encoded data removed]",
            "text/plain": [
              "<Figure size 360x360 with 1 Axes>"
            ]
          },
          "metadata": {
            "needs_background": "light"
          }
        }
      ]
    },
    {
      "cell_type": "code",
      "metadata": {
        "colab": {
          "base_uri": "https://localhost:8080/",
          "height": 386
        },
        "id": "JKyzHkPAQXp4",
        "outputId": "007739ce-e69f-440a-8676-bea7e640e71d"
      },
      "source": [
        "#Plot the histogram with bin size 15\n",
        "sns.displot(penguins, x=\"flipper_length_mm\", bins=15)"
      ],
      "execution_count": 30,
      "outputs": [
        {
          "output_type": "execute_result",
          "data": {
            "text/plain": [
              "<seaborn.axisgrid.FacetGrid at 0x7efffa5217d0>"
            ]
          },
          "metadata": {},
          "execution_count": 30
        },
        {
          "output_type": "display_data",
          "data": {
            "image/png": "[encoded data removed]",
            "text/plain": [
              "<Figure size 360x360 with 1 Axes>"
            ]
          },
          "metadata": {
            "needs_background": "light"
          }
        }
      ]
    },
    {
      "cell_type": "code",
      "metadata": {
        "colab": {
          "base_uri": "https://localhost:8080/",
          "height": 386
        },
        "id": "98zHcON3Qbbp",
        "outputId": "03ca7fd1-0d9a-420e-952f-9734310d0d7c"
      },
      "source": [
        "#Plot the histogram with bin size 50\n",
        "sns.displot(penguins, x=\"flipper_length_mm\", bins=50)"
      ],
      "execution_count": 31,
      "outputs": [
        {
          "output_type": "execute_result",
          "data": {
            "text/plain": [
              "<seaborn.axisgrid.FacetGrid at 0x7efffa2e7c10>"
            ]
          },
          "metadata": {},
          "execution_count": 31
        },
        {
          "output_type": "display_data",
          "data": {
            "image/png": "[encoded data removed]",
            "text/plain": [
              "<Figure size 360x360 with 1 Axes>"
            ]
          },
          "metadata": {
            "needs_background": "light"
          }
        }
      ]
    },
    {
      "cell_type": "code",
      "metadata": {
        "colab": {
          "base_uri": "https://localhost:8080/",
          "height": 386
        },
        "id": "L2WpH-S2QeZW",
        "outputId": "d44f9a9d-4ecd-48ba-cfbb-916270fe7ce6"
      },
      "source": [
        "#Plot the histogram with bin size 30\n",
        "sns.displot(penguins, x=\"flipper_length_mm\", bins=30)"
      ],
      "execution_count": 32,
      "outputs": [
        {
          "output_type": "execute_result",
          "data": {
            "text/plain": [
              "<seaborn.axisgrid.FacetGrid at 0x7efffa277f50>"
            ]
          },
          "metadata": {},
          "execution_count": 32
        },
        {
          "output_type": "display_data",
          "data": {
            "image/png": "[encoded data removed]",
            "text/plain": [
              "<Figure size 360x360 with 1 Axes>"
            ]
          },
          "metadata": {
            "needs_background": "light"
          }
        }
      ]
    },
    {
      "cell_type": "markdown",
      "metadata": {
        "id": "b6jmTDxqJsVY"
      },
      "source": [
        "## Density Plot\n",
        "\n",
        "KDE(Kernal Density Estimation):A histogram aims to approximate the underlying probability density function that generated the data by binning and counting observations. Kernel density estimation (KDE) presents a different solution to the same problem. Rather than using discrete bins, a KDE plot smooths the observations with a Gaussian kernel, producing a continuous density estimate:"
      ]
    },
    {
      "cell_type": "code",
      "metadata": {
        "colab": {
          "base_uri": "https://localhost:8080/",
          "height": 386
        },
        "id": "_Vw-1S_3HgLS",
        "outputId": "568bf986-2ab4-443d-c94c-8887e1749b71"
      },
      "source": [
        "sns.displot(x,  kind=\"kde\")"
      ],
      "execution_count": 33,
      "outputs": [
        {
          "output_type": "execute_result",
          "data": {
            "text/plain": [
              "<seaborn.axisgrid.FacetGrid at 0x7efffa116e50>"
            ]
          },
          "metadata": {},
          "execution_count": 33
        },
        {
          "output_type": "display_data",
          "data": {
            "image/png": "[encoded data removed]",
            "text/plain": [
              "<Figure size 360x360 with 1 Axes>"
            ]
          },
          "metadata": {
            "needs_background": "light"
          }
        }
      ]
    },
    {
      "cell_type": "code",
      "metadata": {
        "colab": {
          "base_uri": "https://localhost:8080/",
          "height": 386
        },
        "id": "uxff1A0EKE28",
        "outputId": "f58f9f13-1b01-47f2-8a94-c4dbb3486f22"
      },
      "source": [
        "sns.displot(x,  kde='True',bins=10)\n",
        "plt.ylabel('Density')"
      ],
      "execution_count": 34,
      "outputs": [
        {
          "output_type": "execute_result",
          "data": {
            "text/plain": [
              "Text(3.799999999999997, 0.5, 'Density')"
            ]
          },
          "metadata": {},
          "execution_count": 34
        },
        {
          "output_type": "display_data",
          "data": {
            "image/png": "[encoded data removed]",
            "text/plain": [
              "<Figure size 360x360 with 1 Axes>"
            ]
          },
          "metadata": {
            "needs_background": "light"
          }
        }
      ]
    },
    {
      "cell_type": "code",
      "metadata": {
        "colab": {
          "base_uri": "https://localhost:8080/",
          "height": 322
        },
        "id": "EZ7HqX7dKlxw",
        "outputId": "725008c5-4154-4af3-d5f1-44213d005388"
      },
      "source": [
        "#Plotting mean and median\n",
        "plt.axvline(x.mean(), color='b', linestyle='dashed', linewidth=1)\n",
        "plt.axvline(np.median(x), color='r', linestyle='dashed', linewidth=2)\n",
        "sns.distplot(x, kde=True, bins=30, hist=False)\n",
        "plt.ylabel('Density')\n",
        "plt.show()"
      ],
      "execution_count": 35,
      "outputs": [
        {
          "output_type": "stream",
          "name": "stderr",
          "text": [
            "/usr/local/lib/python3.7/dist-packages/seaborn/distributions.py:2619: FutureWarning: `distplot` is a deprecated function and will be removed in a future version. Please adapt your code to use either `displot` (a figure-level function with similar flexibility) or `kdeplot` (an axes-level function for kernel density plots).\n",
            "  warnings.warn(msg, FutureWarning)\n"
          ]
        },
        {
          "output_type": "display_data",
          "data": {
            "image/png": "[encoded data removed]",
            "text/plain": [
              "<Figure size 432x288 with 1 Axes>"
            ]
          },
          "metadata": {
            "needs_background": "light"
          }
        }
      ]
    },
    {
      "cell_type": "code",
      "metadata": {
        "colab": {
          "base_uri": "https://localhost:8080/"
        },
        "id": "LdRjjN61K348",
        "outputId": "3b353c54-3077-47a0-a84e-1e6738bce5f2"
      },
      "source": [
        "print(\"Mean: \", np.mean(x))\n",
        "print(\"Median: \", np.median(x))"
      ],
      "execution_count": 36,
      "outputs": [
        {
          "output_type": "stream",
          "name": "stdout",
          "text": [
            "Mean:  50.20772664432726\n",
            "Median:  50.13100748603218\n"
          ]
        }
      ]
    },
    {
      "cell_type": "markdown",
      "metadata": {
        "id": "FZmYpuT-LtOC"
      },
      "source": [
        "## Quartiles"
      ]
    },
    {
      "cell_type": "code",
      "metadata": {
        "colab": {
          "base_uri": "https://localhost:8080/"
        },
        "id": "ot0qa0TvLxod",
        "outputId": "a7b1049f-cc1a-49ac-b7ab-0e1595da5afb"
      },
      "source": [
        "my_list = [1, 2, 2, 2, 4, 5, 6, 6, 6, 9, 10, 10, 10, 11, 14, 14, 15, 18, 19, 20]\n",
        "print(my_list)"
      ],
      "execution_count": 37,
      "outputs": [
        {
          "output_type": "stream",
          "name": "stdout",
          "text": [
            "[1, 2, 2, 2, 4, 5, 6, 6, 6, 9, 10, 10, 10, 11, 14, 14, 15, 18, 19, 20]\n"
          ]
        }
      ]
    },
    {
      "cell_type": "code",
      "metadata": {
        "colab": {
          "base_uri": "https://localhost:8080/"
        },
        "id": "DCWra8-pL0LD",
        "outputId": "af900ba6-eb5c-49e8-b81f-7b980d26b769"
      },
      "source": [
        "np.percentile(my_list, 10)"
      ],
      "execution_count": 38,
      "outputs": [
        {
          "output_type": "execute_result",
          "data": {
            "text/plain": [
              "2.0"
            ]
          },
          "metadata": {},
          "execution_count": 38
        }
      ]
    },
    {
      "cell_type": "code",
      "metadata": {
        "id": "X8Fkpyv9L6c2",
        "colab": {
          "base_uri": "https://localhost:8080/"
        },
        "outputId": "83b265e9-a17a-408e-d54d-ee97eb958d03"
      },
      "source": [
        "np.percentile(my_list, 65)"
      ],
      "execution_count": 39,
      "outputs": [
        {
          "output_type": "execute_result",
          "data": {
            "text/plain": [
              "10.35"
            ]
          },
          "metadata": {},
          "execution_count": 39
        }
      ]
    },
    {
      "cell_type": "code",
      "metadata": {
        "id": "kUh3xgvLL9en",
        "colab": {
          "base_uri": "https://localhost:8080/"
        },
        "outputId": "a99e244b-e43a-4b74-bbe5-f2994446b308"
      },
      "source": [
        "np.percentile(my_list, 99)"
      ],
      "execution_count": 40,
      "outputs": [
        {
          "output_type": "execute_result",
          "data": {
            "text/plain": [
              "19.81"
            ]
          },
          "metadata": {},
          "execution_count": 40
        }
      ]
    },
    {
      "cell_type": "code",
      "metadata": {
        "id": "VkjgNonGL_Wf",
        "colab": {
          "base_uri": "https://localhost:8080/"
        },
        "outputId": "42c53530-06f6-4db9-bb93-c863e77801b0"
      },
      "source": [
        "Q1 = np.percentile(my_list,25)\n",
        "Q2 = np.percentile(my_list,50)\n",
        "Q3 = np.percentile(my_list,75)\n",
        "print(\"Q1: \",Q1)\n",
        "print(\"Q2: \",Q2)\n",
        "print(\"Median:\",np.median(my_list))\n",
        "print(\"Q3: \",Q3)\n"
      ],
      "execution_count": 41,
      "outputs": [
        {
          "output_type": "stream",
          "name": "stdout",
          "text": [
            "Q1:  4.75\n",
            "Q2:  9.5\n",
            "Median: 9.5\n",
            "Q3:  14.0\n"
          ]
        }
      ]
    },
    {
      "cell_type": "code",
      "metadata": {
        "id": "bDyl8YvbMYkC",
        "colab": {
          "base_uri": "https://localhost:8080/"
        },
        "outputId": "23dc9e11-d271-4fbc-9f55-70e713b11630"
      },
      "source": [
        "IQR=Q3-Q1\n",
        "print(\"Inter Quartile Range: \",IQR)"
      ],
      "execution_count": 42,
      "outputs": [
        {
          "output_type": "stream",
          "name": "stdout",
          "text": [
            "Inter Quartile Range:  9.25\n"
          ]
        }
      ]
    },
    {
      "cell_type": "markdown",
      "metadata": {
        "id": "G9Uh87t9LPlO"
      },
      "source": [
        "## Box Plots"
      ]
    },
    {
      "cell_type": "code",
      "metadata": {
        "colab": {
          "base_uri": "https://localhost:8080/",
          "height": 282
        },
        "id": "OiGd8_RkK_je",
        "outputId": "3ae6b38a-94f3-48ab-be49-6d21f4d30cf6"
      },
      "source": [
        "my_list = [1, 2, 2, 2, 4, 5, 6, 6, 6, 9, 10, 10, 10, 11, 14, 14, 15, 18,19, 20]\n",
        "\n",
        "# Convert the list to dataframe and add column name\n",
        "df = pd.DataFrame(my_list, columns=['Sample data'])\n",
        "\n",
        "# Plot using seaborm\n",
        "sns.boxplot(data=df)\n",
        "\n",
        "# Add ylabel\n",
        "plt.ylabel('Data points')"
      ],
      "execution_count": 43,
      "outputs": [
        {
          "output_type": "execute_result",
          "data": {
            "text/plain": [
              "Text(0, 0.5, 'Data points')"
            ]
          },
          "metadata": {},
          "execution_count": 43
        },
        {
          "output_type": "display_data",
          "data": {
            "image/png": "[encoded data removed]",
            "text/plain": [
              "<Figure size 432x288 with 1 Axes>"
            ]
          },
          "metadata": {
            "needs_background": "light"
          }
        }
      ]
    },
    {
      "cell_type": "code",
      "metadata": {
        "colab": {
          "base_uri": "https://localhost:8080/"
        },
        "id": "wZdy3GAWLj4S",
        "outputId": "2844d86a-d3b9-40a4-e57b-433e0b62871d"
      },
      "source": [
        "np.percentile(my_list, [25, 50, 75])"
      ],
      "execution_count": 44,
      "outputs": [
        {
          "output_type": "execute_result",
          "data": {
            "text/plain": [
              "array([ 4.75,  9.5 , 14.  ])"
            ]
          },
          "metadata": {},
          "execution_count": 44
        }
      ]
    },
    {
      "cell_type": "markdown",
      "metadata": {
        "id": "BWgik3RBO9-2"
      },
      "source": [
        "### **Using IQR to identify outliers**"
      ]
    },
    {
      "cell_type": "code",
      "metadata": {
        "id": "kYsLau6RPA6E"
      },
      "source": [
        "dummy_age = [20, 21, 24, 24, 28, 26, 19, 22, 26, 24, 21,\n",
        "            19, 22, 28, 29, 6, 100, 25, 25, 28, 31]\n",
        "dummy_height = [150, 151, 155, 153, 280, 160, 158, 157, 158, 145, 150,\n",
        "               155, 155, 151, 152, 153, 160, 152, 157, 157, 160, 153]\n",
        "dummy_df = pd.DataFrame(list(zip(dummy_age, dummy_height)),\n",
        "                        columns =['Age', 'Height(cm)'])"
      ],
      "execution_count": 45,
      "outputs": []
    },
    {
      "cell_type": "code",
      "metadata": {
        "colab": {
          "base_uri": "https://localhost:8080/",
          "height": 708
        },
        "id": "u873aReuPHmL",
        "outputId": "ebec5c34-cf0c-429d-fa5a-01bce6ce7c3d"
      },
      "source": [
        "\n",
        "dummy_df"
      ],
      "execution_count": 46,
      "outputs": [
        {
          "output_type": "execute_result",
          "data": {
            "text/html": [
              "\n",
              "  <div id=\"df-821218ff-bee6-48e2-a3b0-1ccaee82e5e7\">\n",
              "    <div class=\"colab-df-container\">\n",
              "      <div>\n",
              "<style scoped>\n",
              "    .dataframe tbody tr th:only-of-type {\n",
              "        vertical-align: middle;\n",
              "    }\n",
              "\n",
              "    .dataframe tbody tr th {\n",
              "        vertical-align: top;\n",
              "    }\n",
              "\n",
              "    .dataframe thead th {\n",
              "        text-align: right;\n",
              "    }\n",
              "</style>\n",
              "<table border=\"1\" class=\"dataframe\">\n",
              "  <thead>\n",
              "    <tr style=\"text-align: right;\">\n",
              "      <th></th>\n",
              "      <th>Age</th>\n",
              "      <th>Height(cm)</th>\n",
              "    </tr>\n",
              "  </thead>\n",
              "  <tbody>\n",
              "    <tr>\n",
              "      <th>0</th>\n",
              "      <td>20</td>\n",
              "      <td>150</td>\n",
              "    </tr>\n",
              "    <tr>\n",
              "      <th>1</th>\n",
              "      <td>21</td>\n",
              "      <td>151</td>\n",
              "    </tr>\n",
              "    <tr>\n",
              "      <th>2</th>\n",
              "      <td>24</td>\n",
              "      <td>155</td>\n",
              "    </tr>\n",
              "    <tr>\n",
              "      <th>3</th>\n",
              "      <td>24</td>\n",
              "      <td>153</td>\n",
              "    </tr>\n",
              "    <tr>\n",
              "      <th>4</th>\n",
              "      <td>28</td>\n",
              "      <td>280</td>\n",
              "    </tr>\n",
              "    <tr>\n",
              "      <th>5</th>\n",
              "      <td>26</td>\n",
              "      <td>160</td>\n",
              "    </tr>\n",
              "    <tr>\n",
              "      <th>6</th>\n",
              "      <td>19</td>\n",
              "      <td>158</td>\n",
              "    </tr>\n",
              "    <tr>\n",
              "      <th>7</th>\n",
              "      <td>22</td>\n",
              "      <td>157</td>\n",
              "    </tr>\n",
              "    <tr>\n",
              "      <th>8</th>\n",
              "      <td>26</td>\n",
              "      <td>158</td>\n",
              "    </tr>\n",
              "    <tr>\n",
              "      <th>9</th>\n",
              "      <td>24</td>\n",
              "      <td>145</td>\n",
              "    </tr>\n",
              "    <tr>\n",
              "      <th>10</th>\n",
              "      <td>21</td>\n",
              "      <td>150</td>\n",
              "    </tr>\n",
              "    <tr>\n",
              "      <th>11</th>\n",
              "      <td>19</td>\n",
              "      <td>155</td>\n",
              "    </tr>\n",
              "    <tr>\n",
              "      <th>12</th>\n",
              "      <td>22</td>\n",
              "      <td>155</td>\n",
              "    </tr>\n",
              "    <tr>\n",
              "      <th>13</th>\n",
              "      <td>28</td>\n",
              "      <td>151</td>\n",
              "    </tr>\n",
              "    <tr>\n",
              "      <th>14</th>\n",
              "      <td>29</td>\n",
              "      <td>152</td>\n",
              "    </tr>\n",
              "    <tr>\n",
              "      <th>15</th>\n",
              "      <td>6</td>\n",
              "      <td>153</td>\n",
              "    </tr>\n",
              "    <tr>\n",
              "      <th>16</th>\n",
              "      <td>100</td>\n",
              "      <td>160</td>\n",
              "    </tr>\n",
              "    <tr>\n",
              "      <th>17</th>\n",
              "      <td>25</td>\n",
              "      <td>152</td>\n",
              "    </tr>\n",
              "    <tr>\n",
              "      <th>18</th>\n",
              "      <td>25</td>\n",
              "      <td>157</td>\n",
              "    </tr>\n",
              "    <tr>\n",
              "      <th>19</th>\n",
              "      <td>28</td>\n",
              "      <td>157</td>\n",
              "    </tr>\n",
              "    <tr>\n",
              "      <th>20</th>\n",
              "      <td>31</td>\n",
              "      <td>160</td>\n",
              "    </tr>\n",
              "  </tbody>\n",
              "</table>\n",
              "</div>\n",
              "      <button class=\"colab-df-convert\" onclick=\"convertToInteractive('df-821218ff-bee6-48e2-a3b0-1ccaee82e5e7')\"\n",
              "              title=\"Convert this dataframe to an interactive table.\"\n",
              "              style=\"display:none;\">\n",
              "        \n",
              "  <svg xmlns=\"http://www.w3.org/2000/svg\" height=\"24px\"viewBox=\"0 0 24 24\"\n",
              "       width=\"24px\">\n",
              "    <path d=\"M0 0h24v24H0V0z\" fill=\"none\"/>\n",
              "    <path d=\"M18.56 5.44l.94 2.06.94-2.06 2.06-.94-2.06-.94-.94-2.06-.94 2.06-2.06.94zm-11 1L8.5 8.5l.94-2.06 2.06-.94-2.06-.94L8.5 2.5l-.94 2.06-2.06.94zm10 10l.94 2.06.94-2.06 2.06-.94-2.06-.94-.94-2.06-.94 2.06-2.06.94z\"/><path d=\"M17.41 7.96l-1.37-1.37c-.4-.4-.92-.59-1.43-.59-.52 0-1.04.2-1.43.59L10.3 9.45l-7.72 7.72c-.78.78-.78 2.05 0 2.83L4 21.41c.39.39.9.59 1.41.59.51 0 1.02-.2 1.41-.59l7.78-7.78 2.81-2.81c.8-.78.8-2.07 0-2.86zM5.41 20L4 18.59l7.72-7.72 1.47 1.35L5.41 20z\"/>\n",
              "  </svg>\n",
              "      </button>\n",
              "      \n",
              "  <style>\n",
              "    .colab-df-container {\n",
              "      display:flex;\n",
              "      flex-wrap:wrap;\n",
              "      gap: 12px;\n",
              "    }\n",
              "\n",
              "    .colab-df-convert {\n",
              "      background-color: #E8F0FE;\n",
              "      border: none;\n",
              "      border-radius: 50%;\n",
              "      cursor: pointer;\n",
              "      display: none;\n",
              "      fill: #1967D2;\n",
              "      height: 32px;\n",
              "      padding: 0 0 0 0;\n",
              "      width: 32px;\n",
              "    }\n",
              "\n",
              "    .colab-df-convert:hover {\n",
              "      background-color: #E2EBFA;\n",
              "      box-shadow: 0px 1px 2px rgba(60, 64, 67, 0.3), 0px 1px 3px 1px rgba(60, 64, 67, 0.15);\n",
              "      fill: #174EA6;\n",
              "    }\n",
              "\n",
              "    [theme=dark] .colab-df-convert {\n",
              "      background-color: #3B4455;\n",
              "      fill: #D2E3FC;\n",
              "    }\n",
              "\n",
              "    [theme=dark] .colab-df-convert:hover {\n",
              "      background-color: #434B5C;\n",
              "      box-shadow: 0px 1px 3px 1px rgba(0, 0, 0, 0.15);\n",
              "      filter: drop-shadow(0px 1px 2px rgba(0, 0, 0, 0.3));\n",
              "      fill: #FFFFFF;\n",
              "    }\n",
              "  </style>\n",
              "\n",
              "      <script>\n",
              "        const buttonEl =\n",
              "          document.querySelector('#df-821218ff-bee6-48e2-a3b0-1ccaee82e5e7 button.colab-df-convert');\n",
              "        buttonEl.style.display =\n",
              "          google.colab.kernel.accessAllowed ? 'block' : 'none';\n",
              "\n",
              "        async function convertToInteractive(key) {\n",
              "          const element = document.querySelector('#df-821218ff-bee6-48e2-a3b0-1ccaee82e5e7');\n",
              "          const dataTable =\n",
              "            await google.colab.kernel.invokeFunction('convertToInteractive',\n",
              "                                                     [key], {});\n",
              "          if (!dataTable) return;\n",
              "\n",
              "          const docLinkHtml = 'Like what you see? Visit the ' +\n",
              "            '<a target=\"_blank\" href=https://colab.research.google.com/notebooks/data_table.ipynb>data table notebook</a>'\n",
              "            + ' to learn more about interactive tables.';\n",
              "          element.innerHTML = '';\n",
              "          dataTable['output_type'] = 'display_data';\n",
              "          await google.colab.output.renderOutput(dataTable, element);\n",
              "          const docLink = document.createElement('div');\n",
              "          docLink.innerHTML = docLinkHtml;\n",
              "          element.appendChild(docLink);\n",
              "        }\n",
              "      </script>\n",
              "    </div>\n",
              "  </div>\n",
              "  "
            ],
            "text/plain": [
              "    Age  Height(cm)\n",
              "0    20         150\n",
              "1    21         151\n",
              "2    24         155\n",
              "3    24         153\n",
              "4    28         280\n",
              "5    26         160\n",
              "6    19         158\n",
              "7    22         157\n",
              "8    26         158\n",
              "9    24         145\n",
              "10   21         150\n",
              "11   19         155\n",
              "12   22         155\n",
              "13   28         151\n",
              "14   29         152\n",
              "15    6         153\n",
              "16  100         160\n",
              "17   25         152\n",
              "18   25         157\n",
              "19   28         157\n",
              "20   31         160"
            ]
          },
          "metadata": {},
          "execution_count": 46
        }
      ]
    },
    {
      "cell_type": "code",
      "metadata": {
        "id": "DiwQyWjtPIJH"
      },
      "source": [
        "def get_lower_upper_bound(my_data):\n",
        "    # Get first and third quartile\n",
        "    q1 = np.percentile(my_data, 25)\n",
        "    q3 = np.percentile(my_data, 75)\n",
        "    \n",
        "    # Calculate Interquartile range\n",
        "    iqr = q3 - q1\n",
        "    \n",
        "    # Compute lower and upper bound\n",
        "    lower_bound = q1 - (iqr * 1.5)\n",
        "    upper_bound = q3 + (iqr * 1.5)\n",
        "    \n",
        "    return lower_bound, upper_bound"
      ],
      "execution_count": 47,
      "outputs": []
    },
    {
      "cell_type": "code",
      "metadata": {
        "id": "_83UbHB-POQm"
      },
      "source": [
        "def get_outliers_iqr(my_data):\n",
        "    lower_bound, upper_bound = get_lower_upper_bound(my_data)\n",
        "    # Filter data less than lower bound and more than upper bound\n",
        "    return my_data[np.where((my_data > upper_bound) |\n",
        "                            (my_data < lower_bound))]"
      ],
      "execution_count": 48,
      "outputs": []
    },
    {
      "cell_type": "code",
      "metadata": {
        "colab": {
          "base_uri": "https://localhost:8080/"
        },
        "id": "BbifhK_nPQiS",
        "outputId": "ef6c3480-0a4b-418b-9705-e036eec7f755"
      },
      "source": [
        "\n",
        "get_outliers_iqr(dummy_df['Age'].values)"
      ],
      "execution_count": 49,
      "outputs": [
        {
          "output_type": "execute_result",
          "data": {
            "text/plain": [
              "array([  6, 100])"
            ]
          },
          "metadata": {},
          "execution_count": 49
        }
      ]
    },
    {
      "cell_type": "code",
      "metadata": {
        "colab": {
          "base_uri": "https://localhost:8080/"
        },
        "id": "S_MomuKUPSfy",
        "outputId": "a37124b0-280d-4638-b7a1-b26e31522cc6"
      },
      "source": [
        "get_outliers_iqr(dummy_df['Height(cm)'].values)"
      ],
      "execution_count": 50,
      "outputs": [
        {
          "output_type": "execute_result",
          "data": {
            "text/plain": [
              "array([280])"
            ]
          },
          "metadata": {},
          "execution_count": 50
        }
      ]
    },
    {
      "cell_type": "code",
      "metadata": {
        "colab": {
          "base_uri": "https://localhost:8080/",
          "height": 282
        },
        "id": "uu4sPmXGPUSz",
        "outputId": "fad6b745-9f5a-4a19-aeba-6ed2054d2ee3"
      },
      "source": [
        "dummy_df.boxplot(column=['Age'])"
      ],
      "execution_count": 51,
      "outputs": [
        {
          "output_type": "execute_result",
          "data": {
            "text/plain": [
              "<matplotlib.axes._subplots.AxesSubplot at 0x7efffa17ab10>"
            ]
          },
          "metadata": {},
          "execution_count": 51
        },
        {
          "output_type": "display_data",
          "data": {
            "image/png": "[encoded data removed]",
            "text/plain": [
              "<Figure size 432x288 with 1 Axes>"
            ]
          },
          "metadata": {
            "needs_background": "light"
          }
        }
      ]
    },
    {
      "cell_type": "code",
      "metadata": {
        "colab": {
          "base_uri": "https://localhost:8080/",
          "height": 282
        },
        "id": "grtyVvCRPWS8",
        "outputId": "4263b52a-0558-425b-ecdc-d2971d99829a"
      },
      "source": [
        "dummy_df.boxplot(column=['Height(cm)'])"
      ],
      "execution_count": 52,
      "outputs": [
        {
          "output_type": "execute_result",
          "data": {
            "text/plain": [
              "<matplotlib.axes._subplots.AxesSubplot at 0x7efff8007dd0>"
            ]
          },
          "metadata": {},
          "execution_count": 52
        },
        {
          "output_type": "display_data",
          "data": {
            "image/png": "[encoded data removed]",
            "text/plain": [
              "<Figure size 432x288 with 1 Axes>"
            ]
          },
          "metadata": {
            "needs_background": "light"
          }
        }
      ]
    },
    {
      "cell_type": "markdown",
      "metadata": {
        "id": "IIVK3IS0HnMi"
      },
      "source": [
        "### **Find the Outliers using Z score**\n",
        "\n",
        "[Click here](https://www.statisticshowto.com/probability-and-statistics/z-score/) to read about What is Z score??\n",
        "\n",
        "[Click here ](https://medium.com/clarusway/z-score-and-how-its-used-to-determine-an-outlier-642110f3b482)to read about outlier detection using Z score"
      ]
    },
    {
      "cell_type": "code",
      "metadata": {
        "id": "p1qegfHYPaUL"
      },
      "source": [
        "import matplotlib.pyplot as plt \n",
        "import numpy as np \n",
        "import pandas as pd \n",
        "import seaborn as sns\n",
        "from scipy import stats \n"
      ],
      "execution_count": 53,
      "outputs": []
    },
    {
      "cell_type": "code",
      "metadata": {
        "colab": {
          "base_uri": "https://localhost:8080/"
        },
        "id": "gpJcEJ7AF9_c",
        "outputId": "699ea442-8325-4adc-b912-31591ba6a6e8"
      },
      "source": [
        "# 200 samples\n",
        "#Standard deviation = 5\n",
        "#array \n",
        "mu, sigma = 100, 5\n",
        "array = np.random.normal(mu, sigma, 200)\n",
        "array"
      ],
      "execution_count": 54,
      "outputs": [
        {
          "output_type": "execute_result",
          "data": {
            "text/plain": [
              "array([ 98.70982076,  90.22087826,  99.12688404, 105.7323516 ,\n",
              "       101.75056107, 107.62802728,  97.79601431, 102.51192215,\n",
              "       109.94275452, 101.78670736,  99.0190846 , 106.5557179 ,\n",
              "       107.48815985, 106.13384959,  99.94980517,  95.93165862,\n",
              "       107.5843163 ,  97.31757695,  98.58089895,  99.32318322,\n",
              "       101.77643813,  95.92459899,  96.51160035,  92.74634097,\n",
              "        99.38708793,  99.3093162 , 109.26974199,  97.6749709 ,\n",
              "       100.26852732, 107.57790354, 102.47142539, 102.26260474,\n",
              "        92.24595038,  99.36117585, 107.45509231,  99.42214031,\n",
              "       101.42303082,  95.45336815,  98.33858082, 111.90720984,\n",
              "       100.63685722,  99.80300115,  91.70788119,  99.85510354,\n",
              "        98.2474454 ,  91.26043998, 108.02888494,  92.91624323,\n",
              "        96.7434255 ,  96.57003995,  97.31561849,  97.33827822,\n",
              "       100.3957716 , 103.99183286, 115.67070613,  98.19287845,\n",
              "        94.72688382, 108.40323555, 105.49263624,  90.77116262,\n",
              "        99.94439628,  97.73242202,  88.04214932,  96.6675483 ,\n",
              "        98.06665626,  97.85244295, 105.31826459, 100.14219138,\n",
              "       105.32522399, 103.98534621,  95.96613828,  98.96289204,\n",
              "        98.1109766 ,  94.48096299, 101.64786183, 100.65091014,\n",
              "        85.56096501,  99.20787722,  97.15128856,  97.88775837,\n",
              "       110.46124926, 109.09101396,  96.84875424, 103.67385229,\n",
              "       100.71349361, 101.12545443, 104.88516778,  97.56731661,\n",
              "        97.52078845, 108.7484356 ,  98.10827078, 100.22710354,\n",
              "        96.13360137, 105.47176587,  96.71540984, 104.48041363,\n",
              "        96.79532056,  98.95111562,  94.24297097,  98.69911285,\n",
              "        99.08029893,  94.49292324, 104.06044497, 104.13531979,\n",
              "       104.62551378, 105.84736019, 102.45887365, 100.1314888 ,\n",
              "       102.80491798,  93.2909791 , 100.13995856,  99.394241  ,\n",
              "        99.24450816,  94.813873  , 102.85313587,  97.04158016,\n",
              "        95.87226909, 106.87092652,  98.56617297,  93.95748327,\n",
              "       107.08510721, 105.93076274,  99.46965613, 105.40410413,\n",
              "       109.34242798,  97.47965885, 103.29259011,  97.60106575,\n",
              "        95.79277647, 100.45155928,  95.25449538,  95.36413101,\n",
              "        99.54071541,  97.52312795,  96.33903239,  96.65656318,\n",
              "       107.30578591,  93.12414196,  98.1527161 ,  99.48172612,\n",
              "        87.53202761,  94.16411299,  94.33756837, 101.30317276,\n",
              "        94.72146738, 104.89578823,  99.92195164,  96.82304443,\n",
              "       104.85566508,  94.68454591, 100.148083  ,  98.59406105,\n",
              "       103.60703702,  99.38689801,  99.96107869, 101.7295767 ,\n",
              "        97.05415187,  99.78278393,  98.73606895, 110.75335258,\n",
              "        95.1044954 , 105.22667486, 104.74010748, 103.82531546,\n",
              "       104.89724916,  99.25896649,  97.57077875,  99.37344644,\n",
              "        94.92024086, 104.50716378, 106.81851797, 103.41935764,\n",
              "       104.62515031, 103.09339199, 104.22370607,  93.14071631,\n",
              "       106.74579242,  96.94708863, 101.44413706, 101.82549146,\n",
              "       103.37787054, 106.16089204, 107.16749613,  97.07755979,\n",
              "        96.23925046,  94.41700999,  99.70092505,  95.35207424,\n",
              "        99.3649385 , 102.2265003 , 109.69537198, 103.04509593,\n",
              "       108.28847042,  99.15032143,  94.77990551,  99.45344525,\n",
              "        98.54314206, 104.84028753,  92.71281386, 108.36157152])"
            ]
          },
          "metadata": {},
          "execution_count": 54
        }
      ]
    },
    {
      "cell_type": "code",
      "metadata": {
        "colab": {
          "base_uri": "https://localhost:8080/",
          "height": 268
        },
        "id": "lYEtB9QDGDPl",
        "outputId": "7ae8526b-cc15-45e2-9a80-01c64d5f7702"
      },
      "source": [
        "#visualize\n",
        "sns.histplot(array)\n",
        "plt.show()"
      ],
      "execution_count": 55,
      "outputs": [
        {
          "output_type": "display_data",
          "data": {
            "image/png": "[encoded data removed]",
            "text/plain": [
              "<Figure size 432x288 with 1 Axes>"
            ]
          },
          "metadata": {
            "needs_background": "light"
          }
        }
      ]
    },
    {
      "cell_type": "code",
      "metadata": {
        "id": "24H2YPOdGUuz"
      },
      "source": [
        "#changing the data points 90 and 50 \n",
        "array[90] = 180\n",
        "array[50] = -40"
      ],
      "execution_count": 56,
      "outputs": []
    },
    {
      "cell_type": "code",
      "metadata": {
        "colab": {
          "base_uri": "https://localhost:8080/",
          "height": 265
        },
        "id": "YA-rkuokGZAN",
        "outputId": "58e47ea4-3afb-49f7-9bc5-bb3038cbb80b"
      },
      "source": [
        "#new array\n",
        "sns.histplot(array)\n",
        "plt.show()"
      ],
      "execution_count": 57,
      "outputs": [
        {
          "output_type": "display_data",
          "data": {
            "image/png": "[encoded data removed]",
            "text/plain": [
              "<Figure size 432x288 with 1 Axes>"
            ]
          },
          "metadata": {
            "needs_background": "light"
          }
        }
      ]
    },
    {
      "cell_type": "code",
      "metadata": {
        "colab": {
          "base_uri": "https://localhost:8080/",
          "height": 206
        },
        "id": "N0fjNfhBGdpQ",
        "outputId": "bc052e45-91cd-4b51-bb09-f087ce86320f"
      },
      "source": [
        "df = pd.DataFrame(array, columns=[\"Data\"]) \n",
        "df.head()"
      ],
      "execution_count": 58,
      "outputs": [
        {
          "output_type": "execute_result",
          "data": {
            "text/html": [
              "\n",
              "  <div id=\"df-758d2cb4-770e-439d-bb70-bbcdf52244b0\">\n",
              "    <div class=\"colab-df-container\">\n",
              "      <div>\n",
              "<style scoped>\n",
              "    .dataframe tbody tr th:only-of-type {\n",
              "        vertical-align: middle;\n",
              "    }\n",
              "\n",
              "    .dataframe tbody tr th {\n",
              "        vertical-align: top;\n",
              "    }\n",
              "\n",
              "    .dataframe thead th {\n",
              "        text-align: right;\n",
              "    }\n",
              "</style>\n",
              "<table border=\"1\" class=\"dataframe\">\n",
              "  <thead>\n",
              "    <tr style=\"text-align: right;\">\n",
              "      <th></th>\n",
              "      <th>Data</th>\n",
              "    </tr>\n",
              "  </thead>\n",
              "  <tbody>\n",
              "    <tr>\n",
              "      <th>0</th>\n",
              "      <td>98.709821</td>\n",
              "    </tr>\n",
              "    <tr>\n",
              "      <th>1</th>\n",
              "      <td>90.220878</td>\n",
              "    </tr>\n",
              "    <tr>\n",
              "      <th>2</th>\n",
              "      <td>99.126884</td>\n",
              "    </tr>\n",
              "    <tr>\n",
              "      <th>3</th>\n",
              "      <td>105.732352</td>\n",
              "    </tr>\n",
              "    <tr>\n",
              "      <th>4</th>\n",
              "      <td>101.750561</td>\n",
              "    </tr>\n",
              "  </tbody>\n",
              "</table>\n",
              "</div>\n",
              "      <button class=\"colab-df-convert\" onclick=\"convertToInteractive('df-758d2cb4-770e-439d-bb70-bbcdf52244b0')\"\n",
              "              title=\"Convert this dataframe to an interactive table.\"\n",
              "              style=\"display:none;\">\n",
              "        \n",
              "  <svg xmlns=\"http://www.w3.org/2000/svg\" height=\"24px\"viewBox=\"0 0 24 24\"\n",
              "       width=\"24px\">\n",
              "    <path d=\"M0 0h24v24H0V0z\" fill=\"none\"/>\n",
              "    <path d=\"M18.56 5.44l.94 2.06.94-2.06 2.06-.94-2.06-.94-.94-2.06-.94 2.06-2.06.94zm-11 1L8.5 8.5l.94-2.06 2.06-.94-2.06-.94L8.5 2.5l-.94 2.06-2.06.94zm10 10l.94 2.06.94-2.06 2.06-.94-2.06-.94-.94-2.06-.94 2.06-2.06.94z\"/><path d=\"M17.41 7.96l-1.37-1.37c-.4-.4-.92-.59-1.43-.59-.52 0-1.04.2-1.43.59L10.3 9.45l-7.72 7.72c-.78.78-.78 2.05 0 2.83L4 21.41c.39.39.9.59 1.41.59.51 0 1.02-.2 1.41-.59l7.78-7.78 2.81-2.81c.8-.78.8-2.07 0-2.86zM5.41 20L4 18.59l7.72-7.72 1.47 1.35L5.41 20z\"/>\n",
              "  </svg>\n",
              "      </button>\n",
              "      \n",
              "  <style>\n",
              "    .colab-df-container {\n",
              "      display:flex;\n",
              "      flex-wrap:wrap;\n",
              "      gap: 12px;\n",
              "    }\n",
              "\n",
              "    .colab-df-convert {\n",
              "      background-color: #E8F0FE;\n",
              "      border: none;\n",
              "      border-radius: 50%;\n",
              "      cursor: pointer;\n",
              "      display: none;\n",
              "      fill: #1967D2;\n",
              "      height: 32px;\n",
              "      padding: 0 0 0 0;\n",
              "      width: 32px;\n",
              "    }\n",
              "\n",
              "    .colab-df-convert:hover {\n",
              "      background-color: #E2EBFA;\n",
              "      box-shadow: 0px 1px 2px rgba(60, 64, 67, 0.3), 0px 1px 3px 1px rgba(60, 64, 67, 0.15);\n",
              "      fill: #174EA6;\n",
              "    }\n",
              "\n",
              "    [theme=dark] .colab-df-convert {\n",
              "      background-color: #3B4455;\n",
              "      fill: #D2E3FC;\n",
              "    }\n",
              "\n",
              "    [theme=dark] .colab-df-convert:hover {\n",
              "      background-color: #434B5C;\n",
              "      box-shadow: 0px 1px 3px 1px rgba(0, 0, 0, 0.15);\n",
              "      filter: drop-shadow(0px 1px 2px rgba(0, 0, 0, 0.3));\n",
              "      fill: #FFFFFF;\n",
              "    }\n",
              "  </style>\n",
              "\n",
              "      <script>\n",
              "        const buttonEl =\n",
              "          document.querySelector('#df-758d2cb4-770e-439d-bb70-bbcdf52244b0 button.colab-df-convert');\n",
              "        buttonEl.style.display =\n",
              "          google.colab.kernel.accessAllowed ? 'block' : 'none';\n",
              "\n",
              "        async function convertToInteractive(key) {\n",
              "          const element = document.querySelector('#df-758d2cb4-770e-439d-bb70-bbcdf52244b0');\n",
              "          const dataTable =\n",
              "            await google.colab.kernel.invokeFunction('convertToInteractive',\n",
              "                                                     [key], {});\n",
              "          if (!dataTable) return;\n",
              "\n",
              "          const docLinkHtml = 'Like what you see? Visit the ' +\n",
              "            '<a target=\"_blank\" href=https://colab.research.google.com/notebooks/data_table.ipynb>data table notebook</a>'\n",
              "            + ' to learn more about interactive tables.';\n",
              "          element.innerHTML = '';\n",
              "          dataTable['output_type'] = 'display_data';\n",
              "          await google.colab.output.renderOutput(dataTable, element);\n",
              "          const docLink = document.createElement('div');\n",
              "          docLink.innerHTML = docLinkHtml;\n",
              "          element.appendChild(docLink);\n",
              "        }\n",
              "      </script>\n",
              "    </div>\n",
              "  </div>\n",
              "  "
            ],
            "text/plain": [
              "         Data\n",
              "0   98.709821\n",
              "1   90.220878\n",
              "2   99.126884\n",
              "3  105.732352\n",
              "4  101.750561"
            ]
          },
          "metadata": {},
          "execution_count": 58
        }
      ]
    },
    {
      "cell_type": "code",
      "metadata": {
        "colab": {
          "base_uri": "https://localhost:8080/",
          "height": 206
        },
        "id": "kJNAbScBGh9D",
        "outputId": "7e718bd9-ba83-4024-8610-e7bed6b2772a"
      },
      "source": [
        "for col in df.columns:\n",
        "    col_zscore = col + \"_zscore\"\n",
        "    df[col_zscore] = (df[col] - df[col].mean())/df[col].std(ddof=0)\n",
        "df.head()"
      ],
      "execution_count": 59,
      "outputs": [
        {
          "output_type": "execute_result",
          "data": {
            "text/html": [
              "\n",
              "  <div id=\"df-70189c89-252d-4b6b-9063-74fd33143db3\">\n",
              "    <div class=\"colab-df-container\">\n",
              "      <div>\n",
              "<style scoped>\n",
              "    .dataframe tbody tr th:only-of-type {\n",
              "        vertical-align: middle;\n",
              "    }\n",
              "\n",
              "    .dataframe tbody tr th {\n",
              "        vertical-align: top;\n",
              "    }\n",
              "\n",
              "    .dataframe thead th {\n",
              "        text-align: right;\n",
              "    }\n",
              "</style>\n",
              "<table border=\"1\" class=\"dataframe\">\n",
              "  <thead>\n",
              "    <tr style=\"text-align: right;\">\n",
              "      <th></th>\n",
              "      <th>Data</th>\n",
              "      <th>Data_zscore</th>\n",
              "    </tr>\n",
              "  </thead>\n",
              "  <tbody>\n",
              "    <tr>\n",
              "      <th>0</th>\n",
              "      <td>98.709821</td>\n",
              "      <td>-0.101573</td>\n",
              "    </tr>\n",
              "    <tr>\n",
              "      <th>1</th>\n",
              "      <td>90.220878</td>\n",
              "      <td>-0.784127</td>\n",
              "    </tr>\n",
              "    <tr>\n",
              "      <th>2</th>\n",
              "      <td>99.126884</td>\n",
              "      <td>-0.068039</td>\n",
              "    </tr>\n",
              "    <tr>\n",
              "      <th>3</th>\n",
              "      <td>105.732352</td>\n",
              "      <td>0.463075</td>\n",
              "    </tr>\n",
              "    <tr>\n",
              "      <th>4</th>\n",
              "      <td>101.750561</td>\n",
              "      <td>0.142919</td>\n",
              "    </tr>\n",
              "  </tbody>\n",
              "</table>\n",
              "</div>\n",
              "      <button class=\"colab-df-convert\" onclick=\"convertToInteractive('df-70189c89-252d-4b6b-9063-74fd33143db3')\"\n",
              "              title=\"Convert this dataframe to an interactive table.\"\n",
              "              style=\"display:none;\">\n",
              "        \n",
              "  <svg xmlns=\"http://www.w3.org/2000/svg\" height=\"24px\"viewBox=\"0 0 24 24\"\n",
              "       width=\"24px\">\n",
              "    <path d=\"M0 0h24v24H0V0z\" fill=\"none\"/>\n",
              "    <path d=\"M18.56 5.44l.94 2.06.94-2.06 2.06-.94-2.06-.94-.94-2.06-.94 2.06-2.06.94zm-11 1L8.5 8.5l.94-2.06 2.06-.94-2.06-.94L8.5 2.5l-.94 2.06-2.06.94zm10 10l.94 2.06.94-2.06 2.06-.94-2.06-.94-.94-2.06-.94 2.06-2.06.94z\"/><path d=\"M17.41 7.96l-1.37-1.37c-.4-.4-.92-.59-1.43-.59-.52 0-1.04.2-1.43.59L10.3 9.45l-7.72 7.72c-.78.78-.78 2.05 0 2.83L4 21.41c.39.39.9.59 1.41.59.51 0 1.02-.2 1.41-.59l7.78-7.78 2.81-2.81c.8-.78.8-2.07 0-2.86zM5.41 20L4 18.59l7.72-7.72 1.47 1.35L5.41 20z\"/>\n",
              "  </svg>\n",
              "      </button>\n",
              "      \n",
              "  <style>\n",
              "    .colab-df-container {\n",
              "      display:flex;\n",
              "      flex-wrap:wrap;\n",
              "      gap: 12px;\n",
              "    }\n",
              "\n",
              "    .colab-df-convert {\n",
              "      background-color: #E8F0FE;\n",
              "      border: none;\n",
              "      border-radius: 50%;\n",
              "      cursor: pointer;\n",
              "      display: none;\n",
              "      fill: #1967D2;\n",
              "      height: 32px;\n",
              "      padding: 0 0 0 0;\n",
              "      width: 32px;\n",
              "    }\n",
              "\n",
              "    .colab-df-convert:hover {\n",
              "      background-color: #E2EBFA;\n",
              "      box-shadow: 0px 1px 2px rgba(60, 64, 67, 0.3), 0px 1px 3px 1px rgba(60, 64, 67, 0.15);\n",
              "      fill: #174EA6;\n",
              "    }\n",
              "\n",
              "    [theme=dark] .colab-df-convert {\n",
              "      background-color: #3B4455;\n",
              "      fill: #D2E3FC;\n",
              "    }\n",
              "\n",
              "    [theme=dark] .colab-df-convert:hover {\n",
              "      background-color: #434B5C;\n",
              "      box-shadow: 0px 1px 3px 1px rgba(0, 0, 0, 0.15);\n",
              "      filter: drop-shadow(0px 1px 2px rgba(0, 0, 0, 0.3));\n",
              "      fill: #FFFFFF;\n",
              "    }\n",
              "  </style>\n",
              "\n",
              "      <script>\n",
              "        const buttonEl =\n",
              "          document.querySelector('#df-70189c89-252d-4b6b-9063-74fd33143db3 button.colab-df-convert');\n",
              "        buttonEl.style.display =\n",
              "          google.colab.kernel.accessAllowed ? 'block' : 'none';\n",
              "\n",
              "        async function convertToInteractive(key) {\n",
              "          const element = document.querySelector('#df-70189c89-252d-4b6b-9063-74fd33143db3');\n",
              "          const dataTable =\n",
              "            await google.colab.kernel.invokeFunction('convertToInteractive',\n",
              "                                                     [key], {});\n",
              "          if (!dataTable) return;\n",
              "\n",
              "          const docLinkHtml = 'Like what you see? Visit the ' +\n",
              "            '<a target=\"_blank\" href=https://colab.research.google.com/notebooks/data_table.ipynb>data table notebook</a>'\n",
              "            + ' to learn more about interactive tables.';\n",
              "          element.innerHTML = '';\n",
              "          dataTable['output_type'] = 'display_data';\n",
              "          await google.colab.output.renderOutput(dataTable, element);\n",
              "          const docLink = document.createElement('div');\n",
              "          docLink.innerHTML = docLinkHtml;\n",
              "          element.appendChild(docLink);\n",
              "        }\n",
              "      </script>\n",
              "    </div>\n",
              "  </div>\n",
              "  "
            ],
            "text/plain": [
              "         Data  Data_zscore\n",
              "0   98.709821    -0.101573\n",
              "1   90.220878    -0.784127\n",
              "2   99.126884    -0.068039\n",
              "3  105.732352     0.463075\n",
              "4  101.750561     0.142919"
            ]
          },
          "metadata": {},
          "execution_count": 59
        }
      ]
    },
    {
      "cell_type": "code",
      "metadata": {
        "id": "tlwuocUxGnGT"
      },
      "source": [
        "df[\"outlier\"] = (abs(df[\"Data_zscore\"])>3).astype(int)"
      ],
      "execution_count": 60,
      "outputs": []
    },
    {
      "cell_type": "code",
      "metadata": {
        "colab": {
          "base_uri": "https://localhost:8080/",
          "height": 206
        },
        "id": "UFC9JZ4KG-LR",
        "outputId": "7325efba-123a-4f1e-cd15-196609d521ef"
      },
      "source": [
        "df.tail()"
      ],
      "execution_count": 61,
      "outputs": [
        {
          "output_type": "execute_result",
          "data": {
            "text/html": [
              "\n",
              "  <div id=\"df-9d3104ec-9fbc-474f-a600-fb4f8859f353\">\n",
              "    <div class=\"colab-df-container\">\n",
              "      <div>\n",
              "<style scoped>\n",
              "    .dataframe tbody tr th:only-of-type {\n",
              "        vertical-align: middle;\n",
              "    }\n",
              "\n",
              "    .dataframe tbody tr th {\n",
              "        vertical-align: top;\n",
              "    }\n",
              "\n",
              "    .dataframe thead th {\n",
              "        text-align: right;\n",
              "    }\n",
              "</style>\n",
              "<table border=\"1\" class=\"dataframe\">\n",
              "  <thead>\n",
              "    <tr style=\"text-align: right;\">\n",
              "      <th></th>\n",
              "      <th>Data</th>\n",
              "      <th>Data_zscore</th>\n",
              "      <th>outlier</th>\n",
              "    </tr>\n",
              "  </thead>\n",
              "  <tbody>\n",
              "    <tr>\n",
              "      <th>195</th>\n",
              "      <td>99.453445</td>\n",
              "      <td>-0.041781</td>\n",
              "      <td>0</td>\n",
              "    </tr>\n",
              "    <tr>\n",
              "      <th>196</th>\n",
              "      <td>98.543142</td>\n",
              "      <td>-0.114974</td>\n",
              "      <td>0</td>\n",
              "    </tr>\n",
              "    <tr>\n",
              "      <th>197</th>\n",
              "      <td>104.840288</td>\n",
              "      <td>0.391348</td>\n",
              "      <td>0</td>\n",
              "    </tr>\n",
              "    <tr>\n",
              "      <th>198</th>\n",
              "      <td>92.712814</td>\n",
              "      <td>-0.583763</td>\n",
              "      <td>0</td>\n",
              "    </tr>\n",
              "    <tr>\n",
              "      <th>199</th>\n",
              "      <td>108.361572</td>\n",
              "      <td>0.674478</td>\n",
              "      <td>0</td>\n",
              "    </tr>\n",
              "  </tbody>\n",
              "</table>\n",
              "</div>\n",
              "      <button class=\"colab-df-convert\" onclick=\"convertToInteractive('df-9d3104ec-9fbc-474f-a600-fb4f8859f353')\"\n",
              "              title=\"Convert this dataframe to an interactive table.\"\n",
              "              style=\"display:none;\">\n",
              "        \n",
              "  <svg xmlns=\"http://www.w3.org/2000/svg\" height=\"24px\"viewBox=\"0 0 24 24\"\n",
              "       width=\"24px\">\n",
              "    <path d=\"M0 0h24v24H0V0z\" fill=\"none\"/>\n",
              "    <path d=\"M18.56 5.44l.94 2.06.94-2.06 2.06-.94-2.06-.94-.94-2.06-.94 2.06-2.06.94zm-11 1L8.5 8.5l.94-2.06 2.06-.94-2.06-.94L8.5 2.5l-.94 2.06-2.06.94zm10 10l.94 2.06.94-2.06 2.06-.94-2.06-.94-.94-2.06-.94 2.06-2.06.94z\"/><path d=\"M17.41 7.96l-1.37-1.37c-.4-.4-.92-.59-1.43-.59-.52 0-1.04.2-1.43.59L10.3 9.45l-7.72 7.72c-.78.78-.78 2.05 0 2.83L4 21.41c.39.39.9.59 1.41.59.51 0 1.02-.2 1.41-.59l7.78-7.78 2.81-2.81c.8-.78.8-2.07 0-2.86zM5.41 20L4 18.59l7.72-7.72 1.47 1.35L5.41 20z\"/>\n",
              "  </svg>\n",
              "      </button>\n",
              "      \n",
              "  <style>\n",
              "    .colab-df-container {\n",
              "      display:flex;\n",
              "      flex-wrap:wrap;\n",
              "      gap: 12px;\n",
              "    }\n",
              "\n",
              "    .colab-df-convert {\n",
              "      background-color: #E8F0FE;\n",
              "      border: none;\n",
              "      border-radius: 50%;\n",
              "      cursor: pointer;\n",
              "      display: none;\n",
              "      fill: #1967D2;\n",
              "      height: 32px;\n",
              "      padding: 0 0 0 0;\n",
              "      width: 32px;\n",
              "    }\n",
              "\n",
              "    .colab-df-convert:hover {\n",
              "      background-color: #E2EBFA;\n",
              "      box-shadow: 0px 1px 2px rgba(60, 64, 67, 0.3), 0px 1px 3px 1px rgba(60, 64, 67, 0.15);\n",
              "      fill: #174EA6;\n",
              "    }\n",
              "\n",
              "    [theme=dark] .colab-df-convert {\n",
              "      background-color: #3B4455;\n",
              "      fill: #D2E3FC;\n",
              "    }\n",
              "\n",
              "    [theme=dark] .colab-df-convert:hover {\n",
              "      background-color: #434B5C;\n",
              "      box-shadow: 0px 1px 3px 1px rgba(0, 0, 0, 0.15);\n",
              "      filter: drop-shadow(0px 1px 2px rgba(0, 0, 0, 0.3));\n",
              "      fill: #FFFFFF;\n",
              "    }\n",
              "  </style>\n",
              "\n",
              "      <script>\n",
              "        const buttonEl =\n",
              "          document.querySelector('#df-9d3104ec-9fbc-474f-a600-fb4f8859f353 button.colab-df-convert');\n",
              "        buttonEl.style.display =\n",
              "          google.colab.kernel.accessAllowed ? 'block' : 'none';\n",
              "\n",
              "        async function convertToInteractive(key) {\n",
              "          const element = document.querySelector('#df-9d3104ec-9fbc-474f-a600-fb4f8859f353');\n",
              "          const dataTable =\n",
              "            await google.colab.kernel.invokeFunction('convertToInteractive',\n",
              "                                                     [key], {});\n",
              "          if (!dataTable) return;\n",
              "\n",
              "          const docLinkHtml = 'Like what you see? Visit the ' +\n",
              "            '<a target=\"_blank\" href=https://colab.research.google.com/notebooks/data_table.ipynb>data table notebook</a>'\n",
              "            + ' to learn more about interactive tables.';\n",
              "          element.innerHTML = '';\n",
              "          dataTable['output_type'] = 'display_data';\n",
              "          await google.colab.output.renderOutput(dataTable, element);\n",
              "          const docLink = document.createElement('div');\n",
              "          docLink.innerHTML = docLinkHtml;\n",
              "          element.appendChild(docLink);\n",
              "        }\n",
              "      </script>\n",
              "    </div>\n",
              "  </div>\n",
              "  "
            ],
            "text/plain": [
              "           Data  Data_zscore  outlier\n",
              "195   99.453445    -0.041781        0\n",
              "196   98.543142    -0.114974        0\n",
              "197  104.840288     0.391348        0\n",
              "198   92.712814    -0.583763        0\n",
              "199  108.361572     0.674478        0"
            ]
          },
          "metadata": {},
          "execution_count": 61
        }
      ]
    },
    {
      "cell_type": "code",
      "metadata": {
        "id": "zQkKZz-eHigr"
      },
      "source": [
        "def outlier_inspect(df, col, min_z=1, max_z = 5, step = 0.2, max_hist = None, bins = 50):\n",
        "    fig = plt.figure(figsize=(20, 6))\n",
        "    fig.suptitle(col, fontsize=16)\n",
        "    plt.subplot(1,3,1)\n",
        "    if max_hist == None:\n",
        "        sns.histplot(df[col], kde=False, bins = 50,color=\"r\")\n",
        "    else :\n",
        "        sns.distplot(df[df[col]<=max_hist][col], kde=False, bins = 50)\n",
        "    plt.subplot(1,3,2)\n",
        "    sns.boxplot(df[col])\n",
        "    plt.subplot(1,3,3)\n",
        "    z_score_inspect = outlier_zscore(df, col, min_z=min_z, max_z = max_z, step = step)\n",
        "    plt.show()"
      ],
      "execution_count": 62,
      "outputs": []
    },
    {
      "cell_type": "code",
      "metadata": {
        "id": "_YzM5nFjHlY8"
      },
      "source": [
        "def outlier_zscore(df, col, min_z=1, max_z = 5, step = 0.1, print_list = False):\n",
        "    z_scores = df[\"Data_zscore\"]\n",
        "    threshold_list = []\n",
        "    for threshold in np.arange(min_z, max_z, step):\n",
        "        threshold_list.append((threshold, len(np.where(z_scores > threshold)[0])))\n",
        "        df_outlier = pd.DataFrame(threshold_list, columns = ['threshold', 'outlier_count'])\n",
        "        df_outlier['pct'] = (df_outlier.outlier_count - df_outlier.outlier_count.shift(-1))/df_outlier.outlier_count*100\n",
        "    plt.plot(df_outlier.threshold, df_outlier.outlier_count)\n",
        "    best_treshold = round(df_outlier.iloc[df_outlier.pct.argmax(), 0],2)\n",
        "    outlier_limit = int(df[col].dropna().mean() + (df[col].dropna().std()) * df_outlier.iloc[df_outlier.pct.argmax(), 0])\n",
        "    percentile_threshold = stats.percentileofscore(df[col].dropna(), outlier_limit)\n",
        "    plt.vlines(best_treshold, 0, df_outlier.outlier_count.max(), \n",
        "               colors=\"r\", ls = \":\"\n",
        "              )\n",
        "    plt.annotate(\"Zscore : {}\\nValue : {}\\nPercentile : {}\".format(best_treshold, outlier_limit, \n",
        "                                                                   (np.round(percentile_threshold, 3), \n",
        "                                                                    np.round(100-percentile_threshold, 3))), \n",
        "                 (best_treshold, df_outlier.outlier_count.max()/2))\n",
        "    #plt.show()\n",
        "    if print_list:\n",
        "        print(df_outlier)\n",
        "    return (plt, df_outlier, best_treshold, outlier_limit, percentile_threshold)"
      ],
      "execution_count": 63,
      "outputs": []
    },
    {
      "cell_type": "code",
      "metadata": {
        "colab": {
          "base_uri": "https://localhost:8080/",
          "height": 486
        },
        "id": "RcLinLsZHpiq",
        "outputId": "04885312-d419-436a-8968-10e550e08001"
      },
      "source": [
        "outlier_inspect(df,\"Data\")"
      ],
      "execution_count": 64,
      "outputs": [
        {
          "output_type": "stream",
          "name": "stderr",
          "text": [
            "/usr/local/lib/python3.7/dist-packages/seaborn/_decorators.py:43: FutureWarning: Pass the following variable as a keyword arg: x. From version 0.12, the only valid positional argument will be `data`, and passing other arguments without an explicit keyword will result in an error or misinterpretation.\n",
            "  FutureWarning\n"
          ]
        },
        {
          "output_type": "display_data",
          "data": {
            "image/png": "[encoded data removed]",
            "text/plain": [
              "<Figure size 1440x432 with 3 Axes>"
            ]
          },
          "metadata": {
            "needs_background": "light"
          }
        }
      ]
    }
  ]
}