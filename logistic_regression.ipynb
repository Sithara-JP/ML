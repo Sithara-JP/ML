{
  "nbformat": 4,
  "nbformat_minor": 0,
  "metadata": {
    "colab": {
      "name": "CBENU4CSE19148.ipynb",
      "provenance": [],
      "collapsed_sections": []
    },
    "kernelspec": {
      "name": "python3",
      "display_name": "Python 3"
    },
    "language_info": {
      "name": "python"
    }
  },
  "cells": [
    {
      "cell_type": "code",
      "metadata": {
        "id": "c9F0fRPl-Rm4"
      },
      "source": [
        "import pandas as pd\n",
        "import numpy as np\n",
        "from sklearn.linear_model import LogisticRegression\n",
        "from sklearn.model_selection import train_test_split\n",
        "import seaborn as sns"
      ],
      "execution_count": 2,
      "outputs": []
    },
    {
      "cell_type": "code",
      "metadata": {
        "colab": {
          "base_uri": "https://localhost:8080/",
          "height": 203
        },
        "id": "V1Qpt73UCODf",
        "outputId": "113143df-74de-4264-b69d-fff84300ce26"
      },
      "source": [
        "df = pd.read_csv(\"/content/diabetes.csv\")\n",
        "df.head(5)"
      ],
      "execution_count": 4,
      "outputs": [
        {
          "output_type": "execute_result",
          "data": {
            "text/html": [
              "<div>\n",
              "<style scoped>\n",
              "    .dataframe tbody tr th:only-of-type {\n",
              "        vertical-align: middle;\n",
              "    }\n",
              "\n",
              "    .dataframe tbody tr th {\n",
              "        vertical-align: top;\n",
              "    }\n",
              "\n",
              "    .dataframe thead th {\n",
              "        text-align: right;\n",
              "    }\n",
              "</style>\n",
              "<table border=\"1\" class=\"dataframe\">\n",
              "  <thead>\n",
              "    <tr style=\"text-align: right;\">\n",
              "      <th></th>\n",
              "      <th>Pregnancies</th>\n",
              "      <th>Glucose</th>\n",
              "      <th>BloodPressure</th>\n",
              "      <th>SkinThickness</th>\n",
              "      <th>Insulin</th>\n",
              "      <th>BMI</th>\n",
              "      <th>DiabetesPedigreeFunction</th>\n",
              "      <th>Age</th>\n",
              "      <th>Outcome</th>\n",
              "    </tr>\n",
              "  </thead>\n",
              "  <tbody>\n",
              "    <tr>\n",
              "      <th>0</th>\n",
              "      <td>6</td>\n",
              "      <td>148</td>\n",
              "      <td>72</td>\n",
              "      <td>35</td>\n",
              "      <td>0</td>\n",
              "      <td>33.6</td>\n",
              "      <td>0.627</td>\n",
              "      <td>50</td>\n",
              "      <td>1</td>\n",
              "    </tr>\n",
              "    <tr>\n",
              "      <th>1</th>\n",
              "      <td>1</td>\n",
              "      <td>85</td>\n",
              "      <td>66</td>\n",
              "      <td>29</td>\n",
              "      <td>0</td>\n",
              "      <td>26.6</td>\n",
              "      <td>0.351</td>\n",
              "      <td>31</td>\n",
              "      <td>0</td>\n",
              "    </tr>\n",
              "    <tr>\n",
              "      <th>2</th>\n",
              "      <td>8</td>\n",
              "      <td>183</td>\n",
              "      <td>64</td>\n",
              "      <td>0</td>\n",
              "      <td>0</td>\n",
              "      <td>23.3</td>\n",
              "      <td>0.672</td>\n",
              "      <td>32</td>\n",
              "      <td>1</td>\n",
              "    </tr>\n",
              "    <tr>\n",
              "      <th>3</th>\n",
              "      <td>1</td>\n",
              "      <td>89</td>\n",
              "      <td>66</td>\n",
              "      <td>23</td>\n",
              "      <td>94</td>\n",
              "      <td>28.1</td>\n",
              "      <td>0.167</td>\n",
              "      <td>21</td>\n",
              "      <td>0</td>\n",
              "    </tr>\n",
              "    <tr>\n",
              "      <th>4</th>\n",
              "      <td>0</td>\n",
              "      <td>137</td>\n",
              "      <td>40</td>\n",
              "      <td>35</td>\n",
              "      <td>168</td>\n",
              "      <td>43.1</td>\n",
              "      <td>2.288</td>\n",
              "      <td>33</td>\n",
              "      <td>1</td>\n",
              "    </tr>\n",
              "  </tbody>\n",
              "</table>\n",
              "</div>"
            ],
            "text/plain": [
              "   Pregnancies  Glucose  BloodPressure  ...  DiabetesPedigreeFunction  Age  Outcome\n",
              "0            6      148             72  ...                     0.627   50        1\n",
              "1            1       85             66  ...                     0.351   31        0\n",
              "2            8      183             64  ...                     0.672   32        1\n",
              "3            1       89             66  ...                     0.167   21        0\n",
              "4            0      137             40  ...                     2.288   33        1\n",
              "\n",
              "[5 rows x 9 columns]"
            ]
          },
          "metadata": {},
          "execution_count": 4
        }
      ]
    },
    {
      "cell_type": "code",
      "metadata": {
        "colab": {
          "base_uri": "https://localhost:8080/"
        },
        "id": "Or21_m_2Sbsn",
        "outputId": "5950deca-19a7-474f-968b-731e65f1cdcf"
      },
      "source": [
        "x = df.iloc[:,:-1].values \n",
        "y = df.iloc[:,-1].values\n",
        "print(\"Sample x val: \",  x[0:5,:])\n",
        "print(\"Sampe y val: \", y[0:5])"
      ],
      "execution_count": 5,
      "outputs": [
        {
          "output_type": "stream",
          "name": "stdout",
          "text": [
            "Sample x val:  [[6.000e+00 1.480e+02 7.200e+01 3.500e+01 0.000e+00 3.360e+01 6.270e-01\n",
            "  5.000e+01]\n",
            " [1.000e+00 8.500e+01 6.600e+01 2.900e+01 0.000e+00 2.660e+01 3.510e-01\n",
            "  3.100e+01]\n",
            " [8.000e+00 1.830e+02 6.400e+01 0.000e+00 0.000e+00 2.330e+01 6.720e-01\n",
            "  3.200e+01]\n",
            " [1.000e+00 8.900e+01 6.600e+01 2.300e+01 9.400e+01 2.810e+01 1.670e-01\n",
            "  2.100e+01]\n",
            " [0.000e+00 1.370e+02 4.000e+01 3.500e+01 1.680e+02 4.310e+01 2.288e+00\n",
            "  3.300e+01]]\n",
            "Sampe y val:  [1 0 1 0 1]\n"
          ]
        }
      ]
    },
    {
      "cell_type": "code",
      "metadata": {
        "colab": {
          "base_uri": "https://localhost:8080/"
        },
        "id": "votiFH9zSvEo",
        "outputId": "8b481e88-eb24-42a6-b0d9-dc77d64a142e"
      },
      "source": [
        "Xtrain, Xtest, Ytrain, Ytest = train_test_split( x, y, test_size = 0.3,random_state=3)\n",
        "print(Xtest)"
      ],
      "execution_count": 6,
      "outputs": [
        {
          "output_type": "stream",
          "name": "stdout",
          "text": [
            "[[  1.    101.     50.    ...  24.2     0.526  26.   ]\n",
            " [  4.    156.     75.    ...  48.3     0.238  32.   ]\n",
            " [  1.     97.     66.    ...  23.2     0.487  22.   ]\n",
            " ...\n",
            " [  8.    109.     76.    ...  27.9     0.64   31.   ]\n",
            " [  3.    170.     64.    ...  34.5     0.356  30.   ]\n",
            " [  4.    115.     72.    ...  28.9     0.376  46.   ]]\n"
          ]
        }
      ]
    },
    {
      "cell_type": "markdown",
      "metadata": {
        "id": "nph2OYUcYuw8"
      },
      "source": [
        "From the scratch"
      ]
    },
    {
      "cell_type": "code",
      "metadata": {
        "id": "7JMcFYw1S6tp"
      },
      "source": [
        "class Logistic_Regression:\n",
        "  def __init__(self, log = 0.001, n = 10000):\n",
        "    self.log = log\n",
        "    self.n = n\n",
        "    self.weights = None\n",
        "    self.bias = None\n",
        "  def fit(self, X, y):\n",
        "    samp, ft = X.shape\n",
        "    self.weights = np.zeros(ft)\n",
        "    self.bias = 0\n",
        "    for _ in range(self.n):\n",
        "      lm = np.dot(X, self.weights) + self.bias\n",
        "      y_pred = self._sigmoid(lm)\n",
        "      w = (1/samp)* np.dot(X.T,(y_pred - y))\n",
        "      b = (1/samp)* np.sum(y_pred - y)\n",
        "      self.weights -= self.log * w\n",
        "      self.bias -= self.log * b\n",
        "  def predict(self, X):\n",
        "    lm = np.dot(X,self.weights) + self.bias\n",
        "    y_pred = self._sigmoid(lm)\n",
        "    y_predc = [1 if i > 0.5 else 0 for i in y_pred]\n",
        "    return y_predc\n",
        "  def _sigmoid(self, x):\n",
        "    return 1/(1+np.exp(-x))\n"
      ],
      "execution_count": 7,
      "outputs": []
    },
    {
      "cell_type": "code",
      "metadata": {
        "id": "6_J8AgWkUiAn"
      },
      "source": [
        "def accuracy(y_check, y_pred):\n",
        "        accuracy = np.sum(y_check == y_pred) / len(y_check)\n",
        "        return accuracy"
      ],
      "execution_count": 8,
      "outputs": []
    },
    {
      "cell_type": "code",
      "metadata": {
        "colab": {
          "base_uri": "https://localhost:8080/"
        },
        "id": "UvAOaVkPUqLp",
        "outputId": "59da3595-3981-4eb7-8036-839ef22664cb"
      },
      "source": [
        "reg = Logistic_Regression(log = 0.0001, n = 10000)\n",
        "reg.fit(Xtrain, Ytrain)\n",
        "pred = reg.predict(Xtest)\n",
        "print(\"Accuracy: \", accuracy(Ytest, pred))"
      ],
      "execution_count": 17,
      "outputs": [
        {
          "output_type": "stream",
          "name": "stdout",
          "text": [
            "Accuracy:  0.6190476190476191\n"
          ]
        }
      ]
    },
    {
      "cell_type": "markdown",
      "metadata": {
        "id": "Ax-pDQbTYSD7"
      },
      "source": [
        "SkLearn"
      ]
    },
    {
      "cell_type": "code",
      "metadata": {
        "id": "igU9AdfaZPFE"
      },
      "source": [
        "LR = LogisticRegression(random_state = 3)\n",
        "LR.fit(Xtrain, Ytrain)\n",
        "LR.predict(Xtest) \n",
        "LR.score(x, y)  "
      ],
      "execution_count": null,
      "outputs": []
    }
  ]
}