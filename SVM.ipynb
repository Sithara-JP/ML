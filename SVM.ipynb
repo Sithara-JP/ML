{
  "nbformat": 4,
  "nbformat_minor": 0,
  "metadata": {
    "colab": {
      "name": "CBENU4CSE19148_Exercise_SVM.ipynb",
      "provenance": [],
      "collapsed_sections": []
    },
    "kernelspec": {
      "display_name": "Python 3",
      "language": "python",
      "name": "python3"
    },
    "language_info": {
      "codemirror_mode": {
        "name": "ipython",
        "version": 3
      },
      "file_extension": ".py",
      "mimetype": "text/x-python",
      "name": "python",
      "nbconvert_exporter": "python",
      "pygments_lexer": "ipython3",
      "version": "3.8.8"
    }
  },
  "cells": [
    {
      "cell_type": "markdown",
      "metadata": {
        "id": "LeOyJmYkWmBV"
      },
      "source": [
        "# Exercise\n",
        "\n",
        "1. Use famous iris flower dataset from sklearn.datasets to predict flower species using SVM classifier.\n",
        "2. Measure prediction score by using different Kernal Function\n",
        "3. Find the best classifer and score for the Kernal Function"
      ]
    },
    {
      "cell_type": "markdown",
      "metadata": {
        "id": "L7SOw8WwXP7V"
      },
      "source": [
        "# Load the iris flower dataset"
      ]
    },
    {
      "cell_type": "code",
      "metadata": {
        "id": "A8tqDwcPrJYx"
      },
      "source": [
        "# Write your Code Here\n",
        "# Importing the libraries and dataset\n",
        "# Importing the libraries\n",
        "import numpy as np\n",
        "import pandas as pd\n",
        "import matplotlib.pyplot as plt\n",
        "from sklearn.model_selection import train_test_split\n",
        "from sklearn.preprocessing import StandardScaler\n",
        "from sklearn.svm import SVC"
      ],
      "execution_count": 151,
      "outputs": []
    },
    {
      "cell_type": "code",
      "metadata": {
        "colab": {
          "base_uri": "https://localhost:8080/",
          "height": 417
        },
        "id": "At0SKV3BrbFM",
        "outputId": "41678b12-2500-40b2-83f0-dd43f0c06766"
      },
      "source": [
        "# Write your Code Here\n",
        "# Importing the dataset\n",
        "iris = pd.read_csv('/content/iris.csv')\n",
        "iris"
      ],
      "execution_count": 152,
      "outputs": [
        {
          "output_type": "execute_result",
          "data": {
            "text/html": [
              "<div>\n",
              "<style scoped>\n",
              "    .dataframe tbody tr th:only-of-type {\n",
              "        vertical-align: middle;\n",
              "    }\n",
              "\n",
              "    .dataframe tbody tr th {\n",
              "        vertical-align: top;\n",
              "    }\n",
              "\n",
              "    .dataframe thead th {\n",
              "        text-align: right;\n",
              "    }\n",
              "</style>\n",
              "<table border=\"1\" class=\"dataframe\">\n",
              "  <thead>\n",
              "    <tr style=\"text-align: right;\">\n",
              "      <th></th>\n",
              "      <th>Id</th>\n",
              "      <th>SepalLengthCm</th>\n",
              "      <th>SepalWidthCm</th>\n",
              "      <th>PetalLengthCm</th>\n",
              "      <th>PetalWidthCm</th>\n",
              "      <th>Species</th>\n",
              "    </tr>\n",
              "  </thead>\n",
              "  <tbody>\n",
              "    <tr>\n",
              "      <th>0</th>\n",
              "      <td>1</td>\n",
              "      <td>5.1</td>\n",
              "      <td>3.5</td>\n",
              "      <td>1.4</td>\n",
              "      <td>0.2</td>\n",
              "      <td>Iris-setosa</td>\n",
              "    </tr>\n",
              "    <tr>\n",
              "      <th>1</th>\n",
              "      <td>2</td>\n",
              "      <td>4.9</td>\n",
              "      <td>3.0</td>\n",
              "      <td>1.4</td>\n",
              "      <td>0.2</td>\n",
              "      <td>Iris-setosa</td>\n",
              "    </tr>\n",
              "    <tr>\n",
              "      <th>2</th>\n",
              "      <td>3</td>\n",
              "      <td>4.7</td>\n",
              "      <td>3.2</td>\n",
              "      <td>1.3</td>\n",
              "      <td>0.2</td>\n",
              "      <td>Iris-setosa</td>\n",
              "    </tr>\n",
              "    <tr>\n",
              "      <th>3</th>\n",
              "      <td>4</td>\n",
              "      <td>4.6</td>\n",
              "      <td>3.1</td>\n",
              "      <td>1.5</td>\n",
              "      <td>0.2</td>\n",
              "      <td>Iris-setosa</td>\n",
              "    </tr>\n",
              "    <tr>\n",
              "      <th>4</th>\n",
              "      <td>5</td>\n",
              "      <td>5.0</td>\n",
              "      <td>3.6</td>\n",
              "      <td>1.4</td>\n",
              "      <td>0.2</td>\n",
              "      <td>Iris-setosa</td>\n",
              "    </tr>\n",
              "    <tr>\n",
              "      <th>...</th>\n",
              "      <td>...</td>\n",
              "      <td>...</td>\n",
              "      <td>...</td>\n",
              "      <td>...</td>\n",
              "      <td>...</td>\n",
              "      <td>...</td>\n",
              "    </tr>\n",
              "    <tr>\n",
              "      <th>145</th>\n",
              "      <td>146</td>\n",
              "      <td>6.7</td>\n",
              "      <td>3.0</td>\n",
              "      <td>5.2</td>\n",
              "      <td>2.3</td>\n",
              "      <td>Iris-virginica</td>\n",
              "    </tr>\n",
              "    <tr>\n",
              "      <th>146</th>\n",
              "      <td>147</td>\n",
              "      <td>6.3</td>\n",
              "      <td>2.5</td>\n",
              "      <td>5.0</td>\n",
              "      <td>1.9</td>\n",
              "      <td>Iris-virginica</td>\n",
              "    </tr>\n",
              "    <tr>\n",
              "      <th>147</th>\n",
              "      <td>148</td>\n",
              "      <td>6.5</td>\n",
              "      <td>3.0</td>\n",
              "      <td>5.2</td>\n",
              "      <td>2.0</td>\n",
              "      <td>Iris-virginica</td>\n",
              "    </tr>\n",
              "    <tr>\n",
              "      <th>148</th>\n",
              "      <td>149</td>\n",
              "      <td>6.2</td>\n",
              "      <td>3.4</td>\n",
              "      <td>5.4</td>\n",
              "      <td>2.3</td>\n",
              "      <td>Iris-virginica</td>\n",
              "    </tr>\n",
              "    <tr>\n",
              "      <th>149</th>\n",
              "      <td>150</td>\n",
              "      <td>5.9</td>\n",
              "      <td>3.0</td>\n",
              "      <td>5.1</td>\n",
              "      <td>1.8</td>\n",
              "      <td>Iris-virginica</td>\n",
              "    </tr>\n",
              "  </tbody>\n",
              "</table>\n",
              "<p>150 rows × 6 columns</p>\n",
              "</div>"
            ],
            "text/plain": [
              "      Id  SepalLengthCm  ...  PetalWidthCm         Species\n",
              "0      1            5.1  ...           0.2     Iris-setosa\n",
              "1      2            4.9  ...           0.2     Iris-setosa\n",
              "2      3            4.7  ...           0.2     Iris-setosa\n",
              "3      4            4.6  ...           0.2     Iris-setosa\n",
              "4      5            5.0  ...           0.2     Iris-setosa\n",
              "..   ...            ...  ...           ...             ...\n",
              "145  146            6.7  ...           2.3  Iris-virginica\n",
              "146  147            6.3  ...           1.9  Iris-virginica\n",
              "147  148            6.5  ...           2.0  Iris-virginica\n",
              "148  149            6.2  ...           2.3  Iris-virginica\n",
              "149  150            5.9  ...           1.8  Iris-virginica\n",
              "\n",
              "[150 rows x 6 columns]"
            ]
          },
          "metadata": {},
          "execution_count": 152
        }
      ]
    },
    {
      "cell_type": "markdown",
      "metadata": {
        "id": "s1n7AZCHX624"
      },
      "source": [
        "## Understand the dataset\n",
        "1. iris.DESCR > Complete description of dataset\n",
        "2. iris.data > Data to learn. Each training set is 4 digit array of features. Total 150 training sets\n",
        "3. iris.feature_names > Array of all 4 feature ['sepal length (cm)','sepal width cm)','petal length (cm)','petal width (cm)']\n",
        "4. iris.filename > CSV file name\n",
        "5. iris.target > The classification label. For every training set there is one classification label(0,1,2). Here 0 for setosa, 1 for versicolor and 2 for virginica\n",
        "6. iris.target_names > the meaning of the features. Its a array >> ['setosa', 'versicolor', 'virginica']\n",
        "From above details its clear that our data is 'iris.data' and labels are 'iris.target'\n",
        "\n",
        "Each training example in iris.data is a array of iris.feature_names lets create a dataframe"
      ]
    },
    {
      "cell_type": "markdown",
      "metadata": {
        "id": "rDGtrWmWY5NO"
      },
      "source": [
        "# Set the Input and Target Column"
      ]
    },
    {
      "cell_type": "code",
      "metadata": {
        "id": "q7L6J8eJXUEA"
      },
      "source": [
        "#Write your Code Here\n",
        "from sklearn import preprocessing\n",
        "le = preprocessing.LabelEncoder()\n",
        "iris['Species'] = le.fit_transform(iris['Species'])"
      ],
      "execution_count": 153,
      "outputs": []
    },
    {
      "cell_type": "code",
      "metadata": {
        "id": "n-5hFZs-t2Ap"
      },
      "source": [
        "X = iris.iloc[:, [1,4]].values\n",
        "Y = iris.iloc[:, 5].values"
      ],
      "execution_count": 154,
      "outputs": []
    },
    {
      "cell_type": "markdown",
      "metadata": {
        "id": "YQ8dxUrYX9JQ"
      },
      "source": [
        "# Display the shape of the dataset with head and tail portion"
      ]
    },
    {
      "cell_type": "code",
      "metadata": {
        "colab": {
          "base_uri": "https://localhost:8080/"
        },
        "id": "ey_Y09RtrJY0",
        "outputId": "89e7830e-80d0-4c33-acfb-49efcd5a262f"
      },
      "source": [
        "#Write your Code Here\n",
        "print(iris.shape)\n",
        "print('Head\\n', iris.head(5))\n",
        "print('Tail\\n', iris.tail(5))"
      ],
      "execution_count": 155,
      "outputs": [
        {
          "output_type": "stream",
          "name": "stdout",
          "text": [
            "(150, 6)\n",
            "Head\n",
            "    Id  SepalLengthCm  SepalWidthCm  PetalLengthCm  PetalWidthCm  Species\n",
            "0   1            5.1           3.5            1.4           0.2        0\n",
            "1   2            4.9           3.0            1.4           0.2        0\n",
            "2   3            4.7           3.2            1.3           0.2        0\n",
            "3   4            4.6           3.1            1.5           0.2        0\n",
            "4   5            5.0           3.6            1.4           0.2        0\n",
            "Tail\n",
            "       Id  SepalLengthCm  SepalWidthCm  PetalLengthCm  PetalWidthCm  Species\n",
            "145  146            6.7           3.0            5.2           2.3        2\n",
            "146  147            6.3           2.5            5.0           1.9        2\n",
            "147  148            6.5           3.0            5.2           2.0        2\n",
            "148  149            6.2           3.4            5.4           2.3        2\n",
            "149  150            5.9           3.0            5.1           1.8        2\n"
          ]
        }
      ]
    },
    {
      "cell_type": "markdown",
      "metadata": {
        "id": "Lb6N9usSrJY0"
      },
      "source": [
        "# Preprocessing missing values"
      ]
    },
    {
      "cell_type": "code",
      "metadata": {
        "id": "XZr_3hEXY7z2",
        "colab": {
          "base_uri": "https://localhost:8080/"
        },
        "outputId": "87b6bbf5-f473-4615-89c5-af7dcf9ac2ca"
      },
      "source": [
        "#Write your Code Here\n",
        "#Write your Code Here\n",
        "print(iris.isnull().sum())"
      ],
      "execution_count": 156,
      "outputs": [
        {
          "output_type": "stream",
          "name": "stdout",
          "text": [
            "Id               0\n",
            "SepalLengthCm    0\n",
            "SepalWidthCm     0\n",
            "PetalLengthCm    0\n",
            "PetalWidthCm     0\n",
            "Species          0\n",
            "dtype: int64\n"
          ]
        }
      ]
    },
    {
      "cell_type": "code",
      "metadata": {
        "colab": {
          "base_uri": "https://localhost:8080/"
        },
        "id": "SEaalXoErJY1",
        "outputId": "e9e524f9-33fe-4373-ff46-81a54716a52d"
      },
      "source": [
        "#Write your Code Here\n",
        "iris.dtypes"
      ],
      "execution_count": 157,
      "outputs": [
        {
          "output_type": "execute_result",
          "data": {
            "text/plain": [
              "Id                 int64\n",
              "SepalLengthCm    float64\n",
              "SepalWidthCm     float64\n",
              "PetalLengthCm    float64\n",
              "PetalWidthCm     float64\n",
              "Species            int64\n",
              "dtype: object"
            ]
          },
          "metadata": {},
          "execution_count": 157
        }
      ]
    },
    {
      "cell_type": "markdown",
      "metadata": {
        "id": "gSy3ayKTrJY1"
      },
      "source": [
        "# Preprocessing Duplicate values"
      ]
    },
    {
      "cell_type": "code",
      "metadata": {
        "colab": {
          "base_uri": "https://localhost:8080/"
        },
        "id": "pF0sbx_prJY1",
        "outputId": "081991f1-979f-4439-c2f9-1dc8cca46746"
      },
      "source": [
        "#Write your Code Here\n",
        "print(iris.duplicated())\n",
        "print(iris.duplicated().sum())"
      ],
      "execution_count": 158,
      "outputs": [
        {
          "output_type": "stream",
          "name": "stdout",
          "text": [
            "0      False\n",
            "1      False\n",
            "2      False\n",
            "3      False\n",
            "4      False\n",
            "       ...  \n",
            "145    False\n",
            "146    False\n",
            "147    False\n",
            "148    False\n",
            "149    False\n",
            "Length: 150, dtype: bool\n",
            "0\n"
          ]
        }
      ]
    },
    {
      "cell_type": "markdown",
      "metadata": {
        "id": "Ztas1bc8rJY1"
      },
      "source": [
        "#  Split the dataset into the Training set and Test set"
      ]
    },
    {
      "cell_type": "code",
      "metadata": {
        "id": "j9ERHl1VsyTG"
      },
      "source": [
        "X_Train, X_Test, Y_Train, Y_Test = train_test_split(X, Y, test_size = 0.25, random_state = 0)"
      ],
      "execution_count": 159,
      "outputs": []
    },
    {
      "cell_type": "markdown",
      "metadata": {
        "id": "KZj7vtvNaO2H"
      },
      "source": [
        "# Feature scaling"
      ]
    },
    {
      "cell_type": "code",
      "metadata": {
        "id": "F2qxqcberJY2"
      },
      "source": [
        "#Write your Code Here\n",
        "sc_X = StandardScaler()\n",
        "X_Train = sc_X.fit_transform(X_Train)\n",
        "X_Test = sc_X.transform(X_Test)"
      ],
      "execution_count": 160,
      "outputs": []
    },
    {
      "cell_type": "markdown",
      "metadata": {
        "id": "Xw-N5G2DrJY2"
      },
      "source": [
        "#   Fitting the classifier into the Training set"
      ]
    },
    {
      "cell_type": "code",
      "metadata": {
        "colab": {
          "base_uri": "https://localhost:8080/"
        },
        "id": "83qu59XPrJY2",
        "outputId": "fb2a9c1c-d0ea-4716-aff7-640b8ff62b6f"
      },
      "source": [
        "#Write your Code Here\n",
        "from sklearn.svm import SVC\n",
        "classifier = SVC(kernel = 'rbf', random_state = 0)\n",
        "classifier.fit(X_Train, Y_Train)"
      ],
      "execution_count": 161,
      "outputs": [
        {
          "output_type": "execute_result",
          "data": {
            "text/plain": [
              "SVC(C=1.0, break_ties=False, cache_size=200, class_weight=None, coef0=0.0,\n",
              "    decision_function_shape='ovr', degree=3, gamma='scale', kernel='rbf',\n",
              "    max_iter=-1, probability=False, random_state=0, shrinking=True, tol=0.001,\n",
              "    verbose=False)"
            ]
          },
          "metadata": {},
          "execution_count": 161
        }
      ]
    },
    {
      "cell_type": "markdown",
      "metadata": {
        "id": "6h5CJznMrJY2"
      },
      "source": [
        "#   Predicting the test set results"
      ]
    },
    {
      "cell_type": "code",
      "metadata": {
        "id": "THlG32UjrJY2"
      },
      "source": [
        "#Write your Code Here\n",
        "Y_Pred = classifier.predict(X_Test)"
      ],
      "execution_count": 162,
      "outputs": []
    },
    {
      "cell_type": "markdown",
      "metadata": {
        "id": "LfkBCSyqrJY3"
      },
      "source": [
        "#   Display the confusion matrix"
      ]
    },
    {
      "cell_type": "code",
      "metadata": {
        "id": "7oheOjAX-mC_"
      },
      "source": [
        "#Write your Code Here\n",
        "from sklearn.metrics import classification_report, confusion_matrix\n",
        "cm = confusion_matrix(Y_Test, Y_Pred)"
      ],
      "execution_count": 163,
      "outputs": []
    },
    {
      "cell_type": "code",
      "metadata": {
        "colab": {
          "base_uri": "https://localhost:8080/"
        },
        "id": "gWIwBFT6uc-m",
        "outputId": "46c198e2-6b76-4143-f5d5-c1e7ebdb5796"
      },
      "source": [
        "print(confusion_matrix(Y_Test, Y_Pred))"
      ],
      "execution_count": 164,
      "outputs": [
        {
          "output_type": "stream",
          "name": "stdout",
          "text": [
            "[[13  0  0]\n",
            " [ 0 16  0]\n",
            " [ 0  1  8]]\n"
          ]
        }
      ]
    },
    {
      "cell_type": "markdown",
      "metadata": {
        "id": "gRGd7F10rJY3"
      },
      "source": [
        "#   Display the Classification Report"
      ]
    },
    {
      "cell_type": "code",
      "metadata": {
        "colab": {
          "base_uri": "https://localhost:8080/"
        },
        "id": "fPG5TgiXuYfk",
        "outputId": "69b8a5ca-915d-4587-d74e-18b31339928a"
      },
      "source": [
        "print(classification_report(Y_Test, Y_Pred))"
      ],
      "execution_count": 165,
      "outputs": [
        {
          "output_type": "stream",
          "name": "stdout",
          "text": [
            "              precision    recall  f1-score   support\n",
            "\n",
            "           0       1.00      1.00      1.00        13\n",
            "           1       0.94      1.00      0.97        16\n",
            "           2       1.00      0.89      0.94         9\n",
            "\n",
            "    accuracy                           0.97        38\n",
            "   macro avg       0.98      0.96      0.97        38\n",
            "weighted avg       0.98      0.97      0.97        38\n",
            "\n"
          ]
        }
      ]
    },
    {
      "cell_type": "markdown",
      "metadata": {
        "id": "OZqSnLlwbSxh"
      },
      "source": [
        "Try by using different Kernal function"
      ]
    },
    {
      "cell_type": "markdown",
      "metadata": {
        "id": "d969aQUdvLMu"
      },
      "source": [
        "LINEAR KERNEL"
      ]
    },
    {
      "cell_type": "code",
      "metadata": {
        "colab": {
          "base_uri": "https://localhost:8080/"
        },
        "id": "stbhhIvivB9i",
        "outputId": "88510ae9-1def-4201-816c-59fdc7a07d61"
      },
      "source": [
        "#Write your Code Here\n",
        "from sklearn.svm import SVC\n",
        "classifier = SVC(kernel = 'linear', random_state = 0)\n",
        "classifier.fit(X_Train, Y_Train)"
      ],
      "execution_count": 166,
      "outputs": [
        {
          "output_type": "execute_result",
          "data": {
            "text/plain": [
              "SVC(C=1.0, break_ties=False, cache_size=200, class_weight=None, coef0=0.0,\n",
              "    decision_function_shape='ovr', degree=3, gamma='scale', kernel='linear',\n",
              "    max_iter=-1, probability=False, random_state=0, shrinking=True, tol=0.001,\n",
              "    verbose=False)"
            ]
          },
          "metadata": {},
          "execution_count": 166
        }
      ]
    },
    {
      "cell_type": "code",
      "metadata": {
        "id": "iDxTFQRavB9q"
      },
      "source": [
        "Y_Pred = classifier.predict(X_Test)"
      ],
      "execution_count": 167,
      "outputs": []
    },
    {
      "cell_type": "code",
      "metadata": {
        "colab": {
          "base_uri": "https://localhost:8080/"
        },
        "id": "NX_QMERUvB9q",
        "outputId": "237e76de-8e0d-4723-d138-1300742f874a"
      },
      "source": [
        "classifier.score(X_Train,Y_Train)"
      ],
      "execution_count": 168,
      "outputs": [
        {
          "output_type": "execute_result",
          "data": {
            "text/plain": [
              "0.9553571428571429"
            ]
          },
          "metadata": {},
          "execution_count": 168
        }
      ]
    },
    {
      "cell_type": "code",
      "metadata": {
        "colab": {
          "base_uri": "https://localhost:8080/"
        },
        "id": "7Tz0of-YvB9q",
        "outputId": "f9f8c8d0-2ede-4a13-f062-93e86a664c68"
      },
      "source": [
        "classifier.score(X_Test,Y_Test)"
      ],
      "execution_count": 169,
      "outputs": [
        {
          "output_type": "execute_result",
          "data": {
            "text/plain": [
              "0.9736842105263158"
            ]
          },
          "metadata": {},
          "execution_count": 169
        }
      ]
    },
    {
      "cell_type": "code",
      "metadata": {
        "colab": {
          "base_uri": "https://localhost:8080/"
        },
        "id": "vAwm7LgwvB9q",
        "outputId": "9ed1bad9-5ac1-4484-ef37-22d23baa6193"
      },
      "source": [
        "from sklearn.metrics import accuracy_score\n",
        "accuracy_score(Y_Test, Y_Pred)"
      ],
      "execution_count": 170,
      "outputs": [
        {
          "output_type": "execute_result",
          "data": {
            "text/plain": [
              "0.9736842105263158"
            ]
          },
          "metadata": {},
          "execution_count": 170
        }
      ]
    },
    {
      "cell_type": "code",
      "metadata": {
        "id": "xxbvWDkDvB9q"
      },
      "source": [
        "from sklearn.metrics import classification_report, confusion_matrix\n",
        "cm = confusion_matrix(Y_Test, Y_Pred)"
      ],
      "execution_count": 171,
      "outputs": []
    },
    {
      "cell_type": "code",
      "metadata": {
        "colab": {
          "base_uri": "https://localhost:8080/"
        },
        "id": "w8qGksHBvB9q",
        "outputId": "ee09105f-b276-4024-f35d-9d74414fe8ce"
      },
      "source": [
        "print(confusion_matrix(Y_Test, Y_Pred))"
      ],
      "execution_count": 172,
      "outputs": [
        {
          "output_type": "stream",
          "name": "stdout",
          "text": [
            "[[13  0  0]\n",
            " [ 0 16  0]\n",
            " [ 0  1  8]]\n"
          ]
        }
      ]
    },
    {
      "cell_type": "code",
      "metadata": {
        "colab": {
          "base_uri": "https://localhost:8080/"
        },
        "id": "tvwNaX_jvB9q",
        "outputId": "a82d223d-6b28-4a45-ae5b-caa3edb4c403"
      },
      "source": [
        "print(classification_report(Y_Test, Y_Pred))"
      ],
      "execution_count": 173,
      "outputs": [
        {
          "output_type": "stream",
          "name": "stdout",
          "text": [
            "              precision    recall  f1-score   support\n",
            "\n",
            "           0       1.00      1.00      1.00        13\n",
            "           1       0.94      1.00      0.97        16\n",
            "           2       1.00      0.89      0.94         9\n",
            "\n",
            "    accuracy                           0.97        38\n",
            "   macro avg       0.98      0.96      0.97        38\n",
            "weighted avg       0.98      0.97      0.97        38\n",
            "\n"
          ]
        }
      ]
    },
    {
      "cell_type": "markdown",
      "metadata": {
        "id": "A3-tbTZYu7sc"
      },
      "source": [
        "SIGMOID KERNEL"
      ]
    },
    {
      "cell_type": "code",
      "metadata": {
        "id": "7EhqzZWCWjad",
        "colab": {
          "base_uri": "https://localhost:8080/"
        },
        "outputId": "12bcc4c7-42b1-4936-94eb-2f74161be773"
      },
      "source": [
        "#Write your Code Here\n",
        "from sklearn.svm import SVC\n",
        "classifier = SVC(kernel = 'sigmoid', random_state = 0)\n",
        "classifier.fit(X_Train, Y_Train)"
      ],
      "execution_count": 174,
      "outputs": [
        {
          "output_type": "execute_result",
          "data": {
            "text/plain": [
              "SVC(C=1.0, break_ties=False, cache_size=200, class_weight=None, coef0=0.0,\n",
              "    decision_function_shape='ovr', degree=3, gamma='scale', kernel='sigmoid',\n",
              "    max_iter=-1, probability=False, random_state=0, shrinking=True, tol=0.001,\n",
              "    verbose=False)"
            ]
          },
          "metadata": {},
          "execution_count": 174
        }
      ]
    },
    {
      "cell_type": "code",
      "metadata": {
        "id": "mTaeHAwYulsj"
      },
      "source": [
        "Y_Pred = classifier.predict(X_Test)"
      ],
      "execution_count": 175,
      "outputs": []
    },
    {
      "cell_type": "code",
      "metadata": {
        "colab": {
          "base_uri": "https://localhost:8080/"
        },
        "id": "5Y7nWxb-umUe",
        "outputId": "8b9cf468-fcd2-40b7-fa09-a5158bad28ba"
      },
      "source": [
        "classifier.score(X_Train,Y_Train)"
      ],
      "execution_count": 176,
      "outputs": [
        {
          "output_type": "execute_result",
          "data": {
            "text/plain": [
              "0.7857142857142857"
            ]
          },
          "metadata": {},
          "execution_count": 176
        }
      ]
    },
    {
      "cell_type": "code",
      "metadata": {
        "colab": {
          "base_uri": "https://localhost:8080/"
        },
        "id": "42BLkBGzuoWZ",
        "outputId": "8f6e8fee-9302-4586-f478-208cbe83ca3f"
      },
      "source": [
        "classifier.score(X_Test,Y_Test)"
      ],
      "execution_count": 177,
      "outputs": [
        {
          "output_type": "execute_result",
          "data": {
            "text/plain": [
              "0.8157894736842105"
            ]
          },
          "metadata": {},
          "execution_count": 177
        }
      ]
    },
    {
      "cell_type": "code",
      "metadata": {
        "colab": {
          "base_uri": "https://localhost:8080/"
        },
        "id": "ko2qd5n5urkJ",
        "outputId": "23bbf795-dcad-43a4-8afc-aa79043f7ae5"
      },
      "source": [
        "from sklearn.metrics import accuracy_score\n",
        "accuracy_score(Y_Test, Y_Pred)"
      ],
      "execution_count": 178,
      "outputs": [
        {
          "output_type": "execute_result",
          "data": {
            "text/plain": [
              "0.8157894736842105"
            ]
          },
          "metadata": {},
          "execution_count": 178
        }
      ]
    },
    {
      "cell_type": "code",
      "metadata": {
        "id": "IQCrbguouuQz"
      },
      "source": [
        "from sklearn.metrics import classification_report, confusion_matrix\n",
        "cm = confusion_matrix(Y_Test, Y_Pred)"
      ],
      "execution_count": 179,
      "outputs": []
    },
    {
      "cell_type": "code",
      "metadata": {
        "colab": {
          "base_uri": "https://localhost:8080/"
        },
        "id": "vcI54kYnuw0q",
        "outputId": "e3ff3d71-482c-4e07-8b4a-10a488979de8"
      },
      "source": [
        "print(confusion_matrix(Y_Test, Y_Pred))"
      ],
      "execution_count": 180,
      "outputs": [
        {
          "output_type": "stream",
          "name": "stdout",
          "text": [
            "[[13  0  0]\n",
            " [ 1 10  5]\n",
            " [ 0  1  8]]\n"
          ]
        }
      ]
    },
    {
      "cell_type": "code",
      "metadata": {
        "colab": {
          "base_uri": "https://localhost:8080/"
        },
        "id": "QwjlikgZu1IK",
        "outputId": "b8d47fd3-34d9-47d9-e470-d7df1811ff0d"
      },
      "source": [
        "print(classification_report(Y_Test, Y_Pred))"
      ],
      "execution_count": 181,
      "outputs": [
        {
          "output_type": "stream",
          "name": "stdout",
          "text": [
            "              precision    recall  f1-score   support\n",
            "\n",
            "           0       0.93      1.00      0.96        13\n",
            "           1       0.91      0.62      0.74        16\n",
            "           2       0.62      0.89      0.73         9\n",
            "\n",
            "    accuracy                           0.82        38\n",
            "   macro avg       0.82      0.84      0.81        38\n",
            "weighted avg       0.85      0.82      0.81        38\n",
            "\n"
          ]
        }
      ]
    },
    {
      "cell_type": "markdown",
      "metadata": {
        "id": "YyG4BnOXvm0k"
      },
      "source": [
        "POLYNOMIAL KERNEL"
      ]
    },
    {
      "cell_type": "code",
      "metadata": {
        "colab": {
          "base_uri": "https://localhost:8080/"
        },
        "id": "Y2-i2K-0vlD_",
        "outputId": "6e10767a-8e3f-411b-b60b-8215dea140c9"
      },
      "source": [
        "#Write your Code Here\n",
        "from sklearn.svm import SVC\n",
        "classifier = SVC(kernel = 'poly', random_state = 0)\n",
        "classifier.fit(X_Train, Y_Train)"
      ],
      "execution_count": 182,
      "outputs": [
        {
          "output_type": "execute_result",
          "data": {
            "text/plain": [
              "SVC(C=1.0, break_ties=False, cache_size=200, class_weight=None, coef0=0.0,\n",
              "    decision_function_shape='ovr', degree=3, gamma='scale', kernel='poly',\n",
              "    max_iter=-1, probability=False, random_state=0, shrinking=True, tol=0.001,\n",
              "    verbose=False)"
            ]
          },
          "metadata": {},
          "execution_count": 182
        }
      ]
    },
    {
      "cell_type": "code",
      "metadata": {
        "id": "gncMBgx7vlEA"
      },
      "source": [
        "Y_Pred = classifier.predict(X_Test)"
      ],
      "execution_count": 183,
      "outputs": []
    },
    {
      "cell_type": "code",
      "metadata": {
        "colab": {
          "base_uri": "https://localhost:8080/"
        },
        "id": "l-MRj092vlEA",
        "outputId": "bf506954-4aec-4793-eebd-a73cca1f0b88"
      },
      "source": [
        "classifier.score(X_Train,Y_Train)"
      ],
      "execution_count": 184,
      "outputs": [
        {
          "output_type": "execute_result",
          "data": {
            "text/plain": [
              "0.9017857142857143"
            ]
          },
          "metadata": {},
          "execution_count": 184
        }
      ]
    },
    {
      "cell_type": "code",
      "metadata": {
        "colab": {
          "base_uri": "https://localhost:8080/"
        },
        "id": "CgEsGGCYvlEA",
        "outputId": "b5b5d8f1-7245-42cb-a6c3-69c29b0535d3"
      },
      "source": [
        "classifier.score(X_Test,Y_Test)"
      ],
      "execution_count": 185,
      "outputs": [
        {
          "output_type": "execute_result",
          "data": {
            "text/plain": [
              "0.868421052631579"
            ]
          },
          "metadata": {},
          "execution_count": 185
        }
      ]
    },
    {
      "cell_type": "code",
      "metadata": {
        "colab": {
          "base_uri": "https://localhost:8080/"
        },
        "id": "LNFbFvJPvlEA",
        "outputId": "dda518ab-ab77-40c3-80fb-48e8c6b1a68f"
      },
      "source": [
        "from sklearn.metrics import accuracy_score\n",
        "accuracy_score(Y_Test, Y_Pred)"
      ],
      "execution_count": 186,
      "outputs": [
        {
          "output_type": "execute_result",
          "data": {
            "text/plain": [
              "0.868421052631579"
            ]
          },
          "metadata": {},
          "execution_count": 186
        }
      ]
    },
    {
      "cell_type": "code",
      "metadata": {
        "id": "pnn6mvw8vlEB"
      },
      "source": [
        "from sklearn.metrics import classification_report, confusion_matrix\n",
        "cm = confusion_matrix(Y_Test, Y_Pred)"
      ],
      "execution_count": 187,
      "outputs": []
    },
    {
      "cell_type": "code",
      "metadata": {
        "colab": {
          "base_uri": "https://localhost:8080/"
        },
        "id": "fM63LgsIvlEB",
        "outputId": "52f68609-9cb1-475c-8a99-ef13825c1a49"
      },
      "source": [
        "print(confusion_matrix(Y_Test, Y_Pred))"
      ],
      "execution_count": 188,
      "outputs": [
        {
          "output_type": "stream",
          "name": "stdout",
          "text": [
            "[[13  0  0]\n",
            " [ 0 16  0]\n",
            " [ 0  5  4]]\n"
          ]
        }
      ]
    },
    {
      "cell_type": "code",
      "metadata": {
        "colab": {
          "base_uri": "https://localhost:8080/"
        },
        "id": "KczoCKaBvlEB",
        "outputId": "b00a6e6e-74c8-4838-88fa-d73890c954f9"
      },
      "source": [
        "print(classification_report(Y_Test, Y_Pred))"
      ],
      "execution_count": 189,
      "outputs": [
        {
          "output_type": "stream",
          "name": "stdout",
          "text": [
            "              precision    recall  f1-score   support\n",
            "\n",
            "           0       1.00      1.00      1.00        13\n",
            "           1       0.76      1.00      0.86        16\n",
            "           2       1.00      0.44      0.62         9\n",
            "\n",
            "    accuracy                           0.87        38\n",
            "   macro avg       0.92      0.81      0.83        38\n",
            "weighted avg       0.90      0.87      0.85        38\n",
            "\n"
          ]
        }
      ]
    }
  ]
}