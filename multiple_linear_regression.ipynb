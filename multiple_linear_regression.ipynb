{
  "nbformat": 4,
  "nbformat_minor": 0,
  "metadata": {
    "colab": {
      "name": "CBENU4CSE19148_Multiple_Linear_Regression_from_Scratch.ipynb",
      "provenance": [],
      "collapsed_sections": []
    },
    "kernelspec": {
      "name": "python3",
      "display_name": "Python 3"
    },
    "language_info": {
      "name": "python"
    }
  },
  "cells": [
    {
      "cell_type": "code",
      "metadata": {
        "id": "d98b070b"
      },
      "source": [
        "# Importing the necessary libraries\n",
        "import numpy as np\n",
        "import pandas as pd\n",
        "import matplotlib.pyplot as plt\n",
        "from sklearn.model_selection import train_test_split\n"
      ],
      "execution_count": 1,
      "outputs": []
    },
    {
      "cell_type": "code",
      "metadata": {
        "id": "c2d6b7ea",
        "colab": {
          "base_uri": "https://localhost:8080/",
          "height": 203
        },
        "outputId": "5b30648b-a194-42cd-c575-47440d386358"
      },
      "source": [
        "# Input the data set\n",
        "df = pd.read_csv(\"/content/50_Startups.csv\")\n",
        "df.head(5)\n",
        "##In case you want to view data plots un-comment the following lines\n",
        "#fig, ax = plt.subplots(nrows=2, ncols=2, figsize=(8, 8))\n",
        "#fig.figsize = (10, 10)\n",
        "#ax[0, 0].scatter(df['Profit'], df['R&D Spend'],color = 'red')\n",
        "#ax[0, 1].scatter(df['Profit'], df['Administration'],color = 'yellow')\n",
        "#ax[1, 0].scatter(df['Profit'], df['Marketing Spend'], color ='green')\n",
        "#ax[1, 1].scatter(df['Profit'], df['State'],color = 'blue')\n",
        "#plt.tight_layout()"
      ],
      "execution_count": 3,
      "outputs": [
        {
          "output_type": "execute_result",
          "data": {
            "text/html": [
              "<div>\n",
              "<style scoped>\n",
              "    .dataframe tbody tr th:only-of-type {\n",
              "        vertical-align: middle;\n",
              "    }\n",
              "\n",
              "    .dataframe tbody tr th {\n",
              "        vertical-align: top;\n",
              "    }\n",
              "\n",
              "    .dataframe thead th {\n",
              "        text-align: right;\n",
              "    }\n",
              "</style>\n",
              "<table border=\"1\" class=\"dataframe\">\n",
              "  <thead>\n",
              "    <tr style=\"text-align: right;\">\n",
              "      <th></th>\n",
              "      <th>R&amp;D Spend</th>\n",
              "      <th>Administration</th>\n",
              "      <th>Marketing Spend</th>\n",
              "      <th>State</th>\n",
              "      <th>Profit</th>\n",
              "    </tr>\n",
              "  </thead>\n",
              "  <tbody>\n",
              "    <tr>\n",
              "      <th>0</th>\n",
              "      <td>165349.20</td>\n",
              "      <td>136897.80</td>\n",
              "      <td>471784.10</td>\n",
              "      <td>New York</td>\n",
              "      <td>192261.83</td>\n",
              "    </tr>\n",
              "    <tr>\n",
              "      <th>1</th>\n",
              "      <td>162597.70</td>\n",
              "      <td>151377.59</td>\n",
              "      <td>443898.53</td>\n",
              "      <td>California</td>\n",
              "      <td>191792.06</td>\n",
              "    </tr>\n",
              "    <tr>\n",
              "      <th>2</th>\n",
              "      <td>153441.51</td>\n",
              "      <td>101145.55</td>\n",
              "      <td>407934.54</td>\n",
              "      <td>Florida</td>\n",
              "      <td>191050.39</td>\n",
              "    </tr>\n",
              "    <tr>\n",
              "      <th>3</th>\n",
              "      <td>144372.41</td>\n",
              "      <td>118671.85</td>\n",
              "      <td>383199.62</td>\n",
              "      <td>New York</td>\n",
              "      <td>182901.99</td>\n",
              "    </tr>\n",
              "    <tr>\n",
              "      <th>4</th>\n",
              "      <td>142107.34</td>\n",
              "      <td>91391.77</td>\n",
              "      <td>366168.42</td>\n",
              "      <td>Florida</td>\n",
              "      <td>166187.94</td>\n",
              "    </tr>\n",
              "  </tbody>\n",
              "</table>\n",
              "</div>"
            ],
            "text/plain": [
              "   R&D Spend  Administration  Marketing Spend       State     Profit\n",
              "0  165349.20       136897.80        471784.10    New York  192261.83\n",
              "1  162597.70       151377.59        443898.53  California  191792.06\n",
              "2  153441.51       101145.55        407934.54     Florida  191050.39\n",
              "3  144372.41       118671.85        383199.62    New York  182901.99\n",
              "4  142107.34        91391.77        366168.42     Florida  166187.94"
            ]
          },
          "metadata": {},
          "execution_count": 3
        }
      ]
    },
    {
      "cell_type": "code",
      "metadata": {
        "id": "ec6d7ed3",
        "colab": {
          "base_uri": "https://localhost:8080/"
        },
        "outputId": "5d59eb1e-acb8-475e-d1ae-456a9a5d70c0"
      },
      "source": [
        "# Define features and labels\n",
        "x = df.iloc[:,:-1].values # Selecting all columns except the last column\n",
        "y = df.iloc[:,-1].values\n",
        "print(\"Sample x:\",  x[0:5,:])\n",
        "print(\"Sampe y: \", y[0:5])"
      ],
      "execution_count": 4,
      "outputs": [
        {
          "output_type": "stream",
          "name": "stdout",
          "text": [
            "Sample x: [[165349.2 136897.8 471784.1 'New York']\n",
            " [162597.7 151377.59 443898.53 'California']\n",
            " [153441.51 101145.55 407934.54 'Florida']\n",
            " [144372.41 118671.85 383199.62 'New York']\n",
            " [142107.34 91391.77 366168.42 'Florida']]\n",
            "Sampe y:  [192261.83 191792.06 191050.39 182901.99 166187.94]\n"
          ]
        }
      ]
    },
    {
      "cell_type": "code",
      "metadata": {
        "id": "8bd4768d"
      },
      "source": [
        "# Convert text data to numbers\n",
        "from sklearn.compose import ColumnTransformer\n",
        "from sklearn.preprocessing import OneHotEncoder\n",
        "ct = ColumnTransformer(transformers=[('encoder', OneHotEncoder(), [3])], remainder='passthrough')\n",
        "x = np.array(ct.fit_transform(x))\n"
      ],
      "execution_count": 5,
      "outputs": []
    },
    {
      "cell_type": "markdown",
      "metadata": {
        "id": "W2I0IKmaoGDF"
      },
      "source": [
        "**EXPLANATION**"
      ]
    },
    {
      "cell_type": "markdown",
      "metadata": {
        "id": "LkwwnMkyodlU"
      },
      "source": [
        "When remainder = 'passthrough' is mentioned, then the other columns which weren't mentioned in the transformers will also be transformed and included in the output or else it would be dropped by default.. "
      ]
    },
    {
      "cell_type": "markdown",
      "metadata": {
        "id": "t19U_oumoJwr"
      },
      "source": [
        ""
      ]
    },
    {
      "cell_type": "code",
      "metadata": {
        "id": "32687bf0"
      },
      "source": [
        "# Scale the dataset\n",
        "from sklearn.preprocessing import StandardScaler\n",
        "#print(\"Data before Scaling:\\n\", x[0:10,:])\n",
        "sc = StandardScaler()\n",
        "x = sc.fit_transform(x)\n",
        "#print(\"Data AfterScaling:\\n\", x[0:10,:])"
      ],
      "execution_count": 6,
      "outputs": []
    },
    {
      "cell_type": "code",
      "metadata": {
        "id": "8d909f00"
      },
      "source": [
        "# Separate the dataset into training and testing## Define features and labels\n",
        "Xtrain, Xtest, Ytrain, Ytest = train_test_split( x, y, test_size = 0.3,random_state=42)\n"
      ],
      "execution_count": 7,
      "outputs": []
    },
    {
      "cell_type": "code",
      "metadata": {
        "id": "8a5b58ab"
      },
      "source": [
        "# Creating the cost and gradient function\n",
        "#calculate cost\n",
        "def CostFunction(x,y,w,b):\n",
        "    cost = np.sum((((x.dot(w) + b) - y) ** 2) / (2*len(y)))\n",
        "    return cost"
      ],
      "execution_count": 8,
      "outputs": []
    },
    {
      "cell_type": "code",
      "metadata": {
        "id": "57693a56"
      },
      "source": [
        "#Gradient Descent\n",
        "def GradientDescent(x, y, w, b, learning_rate, epochs):\n",
        "    cost_list = [0] * epochs\n",
        "   \n",
        "    for epoch in range(epochs):\n",
        "        z = x.dot(w) + b\n",
        "        loss = z - y\n",
        "        \n",
        "        weight_gradient = x.T.dot(loss) / len(y)\n",
        "        bias_gradient = np.sum(loss) / len(y)\n",
        "        \n",
        "        w = w - learning_rate*weight_gradient\n",
        "        b = b - learning_rate*bias_gradient\n",
        "  \n",
        "        cost = CostFunction(x, y, w, b)\n",
        "        cost_list[epoch] = cost\n",
        "        \n",
        "        if (epoch%(epochs/10)==0):\n",
        "            print(\"Cost at epoch\",epoch,\"is:\",cost)\n",
        "        \n",
        "    return w, b, cost_list"
      ],
      "execution_count": 9,
      "outputs": []
    },
    {
      "cell_type": "code",
      "metadata": {
        "colab": {
          "base_uri": "https://localhost:8080/"
        },
        "id": "a1831ed6",
        "outputId": "fcbfb4ff-1e7f-4bb5-91a3-932a1dfec292"
      },
      "source": [
        "# Calculating weights and bias\n",
        "w, b, c= GradientDescent(Xtrain, Ytrain, np.zeros(Xtrain.shape[1]), 0, 0.002,epochs=15000)\n",
        "#38791988.606615104 is lowest cost achieved"
      ],
      "execution_count": 10,
      "outputs": [
        {
          "output_type": "stream",
          "name": "stdout",
          "text": [
            "Cost at epoch 0 is: 6989316078.6237135\n",
            "Cost at epoch 1500 is: 93910079.250253\n",
            "Cost at epoch 3000 is: 52213406.46017957\n",
            "Cost at epoch 4500 is: 44053387.931024216\n",
            "Cost at epoch 6000 is: 41718884.2933599\n",
            "Cost at epoch 7500 is: 41048136.3698332\n",
            "Cost at epoch 9000 is: 40855409.29807189\n",
            "Cost at epoch 10500 is: 40800032.69430475\n",
            "Cost at epoch 12000 is: 40784121.23860738\n",
            "Cost at epoch 13500 is: 40779549.37241818\n"
          ]
        }
      ]
    },
    {
      "cell_type": "code",
      "metadata": {
        "scrolled": true,
        "colab": {
          "base_uri": "https://localhost:8080/",
          "height": 293
        },
        "id": "e0c01eec",
        "outputId": "d7aaf2b8-b6f2-418d-e883-930829b3d024"
      },
      "source": [
        "# Plotting the cost\n",
        "plt.plot(c)"
      ],
      "execution_count": 11,
      "outputs": [
        {
          "output_type": "execute_result",
          "data": {
            "text/plain": [
              "[<matplotlib.lines.Line2D at 0x7f2c732ca350>]"
            ]
          },
          "metadata": {},
          "execution_count": 11
        },
        {
          "output_type": "display_data",
          "data": {
            "image/png": "[encoded data removed]",
            "text/plain": [
              "<Figure size 432x288 with 1 Axes>"
            ]
          },
          "metadata": {
            "needs_background": "light"
          }
        }
      ]
    },
    {
      "cell_type": "code",
      "metadata": {
        "id": "0d51a88c"
      },
      "source": [
        "# Predicting labels with the calculated weights and biases\n",
        "def predict(X, w, b):\n",
        "    return X.dot(w) + b"
      ],
      "execution_count": 12,
      "outputs": []
    },
    {
      "cell_type": "code",
      "metadata": {
        "id": "b857e9a8"
      },
      "source": [
        "y_pred = predict(Xtest, w, b)"
      ],
      "execution_count": 13,
      "outputs": []
    },
    {
      "cell_type": "code",
      "metadata": {
        "id": "9fed13fb"
      },
      "source": [
        "# Calculating the r² accuracy of our model\n",
        "def r2score(y_pred, y):\n",
        "    rss = np.sum((y_pred - y) ** 2)\n",
        "    tss = np.sum((y-y.mean()) ** 2)\n",
        "    \n",
        "    r2 = 1 - (rss / tss)\n",
        "    return r2"
      ],
      "execution_count": 14,
      "outputs": []
    },
    {
      "cell_type": "code",
      "metadata": {
        "colab": {
          "base_uri": "https://localhost:8080/"
        },
        "id": "77b5fc58",
        "outputId": "75b1e23a-c8dd-4fd7-844f-7264b65d1654"
      },
      "source": [
        "r2score(y_pred, Ytest)"
      ],
      "execution_count": 15,
      "outputs": [
        {
          "output_type": "execute_result",
          "data": {
            "text/plain": [
              "0.9397254670323116"
            ]
          },
          "metadata": {},
          "execution_count": 15
        }
      ]
    },
    {
      "cell_type": "markdown",
      "metadata": {
        "id": "0RR0rRjPd_ii"
      },
      "source": [
        "**EXERCISE 2**"
      ]
    },
    {
      "cell_type": "markdown",
      "metadata": {
        "id": "omqaC2QEeDpB"
      },
      "source": [
        "Link to the dataset: https://drive.google.com/file/d/1qwBmSvG1Od1Yjbmn14eXEyl_f4Fi0okq/view?usp=sharing"
      ]
    },
    {
      "cell_type": "code",
      "metadata": {
        "colab": {
          "base_uri": "https://localhost:8080/",
          "height": 203
        },
        "id": "5SO0MeWReCmI",
        "outputId": "71be6321-c258-4433-e3f3-43de7d176678"
      },
      "source": [
        "df = pd.read_csv('/content/basketball.csv')\n",
        "df.head(5)"
      ],
      "execution_count": 46,
      "outputs": [
        {
          "output_type": "execute_result",
          "data": {
            "text/html": [
              "<div>\n",
              "<style scoped>\n",
              "    .dataframe tbody tr th:only-of-type {\n",
              "        vertical-align: middle;\n",
              "    }\n",
              "\n",
              "    .dataframe tbody tr th {\n",
              "        vertical-align: top;\n",
              "    }\n",
              "\n",
              "    .dataframe thead th {\n",
              "        text-align: right;\n",
              "    }\n",
              "</style>\n",
              "<table border=\"1\" class=\"dataframe\">\n",
              "  <thead>\n",
              "    <tr style=\"text-align: right;\">\n",
              "      <th></th>\n",
              "      <th>height</th>\n",
              "      <th>weight</th>\n",
              "      <th>field_goals</th>\n",
              "      <th>free_throws</th>\n",
              "    </tr>\n",
              "  </thead>\n",
              "  <tbody>\n",
              "    <tr>\n",
              "      <th>0</th>\n",
              "      <td>6.8</td>\n",
              "      <td>225</td>\n",
              "      <td>0.442</td>\n",
              "      <td>0.672</td>\n",
              "    </tr>\n",
              "    <tr>\n",
              "      <th>1</th>\n",
              "      <td>6.3</td>\n",
              "      <td>180</td>\n",
              "      <td>0.435</td>\n",
              "      <td>0.797</td>\n",
              "    </tr>\n",
              "    <tr>\n",
              "      <th>2</th>\n",
              "      <td>6.4</td>\n",
              "      <td>190</td>\n",
              "      <td>0.456</td>\n",
              "      <td>0.761</td>\n",
              "    </tr>\n",
              "    <tr>\n",
              "      <th>3</th>\n",
              "      <td>6.2</td>\n",
              "      <td>180</td>\n",
              "      <td>0.416</td>\n",
              "      <td>0.651</td>\n",
              "    </tr>\n",
              "    <tr>\n",
              "      <th>4</th>\n",
              "      <td>6.9</td>\n",
              "      <td>205</td>\n",
              "      <td>0.449</td>\n",
              "      <td>0.900</td>\n",
              "    </tr>\n",
              "  </tbody>\n",
              "</table>\n",
              "</div>"
            ],
            "text/plain": [
              "   height  weight  field_goals  free_throws\n",
              "0     6.8     225        0.442        0.672\n",
              "1     6.3     180        0.435        0.797\n",
              "2     6.4     190        0.456        0.761\n",
              "3     6.2     180        0.416        0.651\n",
              "4     6.9     205        0.449        0.900"
            ]
          },
          "metadata": {},
          "execution_count": 46
        }
      ]
    },
    {
      "cell_type": "code",
      "metadata": {
        "colab": {
          "base_uri": "https://localhost:8080/"
        },
        "id": "VmwHPrUjerq-",
        "outputId": "02519c37-bb48-40e7-9b88-099f1d6fb129"
      },
      "source": [
        "x = df.iloc[:,:-1].values \n",
        "y = df.iloc[:,-1].values\n",
        "print(\"Independent variable:\\n\",  x[0:5,:])\n",
        "print(\"Dependent variable:\\n \", y[0:5])"
      ],
      "execution_count": 47,
      "outputs": [
        {
          "output_type": "stream",
          "name": "stdout",
          "text": [
            "Independent variable:\n",
            " [[  6.8   225.      0.442]\n",
            " [  6.3   180.      0.435]\n",
            " [  6.4   190.      0.456]\n",
            " [  6.2   180.      0.416]\n",
            " [  6.9   205.      0.449]]\n",
            "Dependent variable:\n",
            "  [0.672 0.797 0.761 0.651 0.9  ]\n"
          ]
        }
      ]
    },
    {
      "cell_type": "code",
      "metadata": {
        "id": "G21T-9zDgOIz"
      },
      "source": [
        "from sklearn.preprocessing import StandardScaler\n",
        "sc = StandardScaler()\n",
        "x = sc.fit_transform(x)"
      ],
      "execution_count": 48,
      "outputs": []
    },
    {
      "cell_type": "code",
      "metadata": {
        "id": "QV5MPKMHhbjh"
      },
      "source": [
        "x_train, x_test, y_train, y_test = train_test_split(x, y, test_size = 0.2, random_state = 5)"
      ],
      "execution_count": 49,
      "outputs": []
    },
    {
      "cell_type": "code",
      "metadata": {
        "colab": {
          "base_uri": "https://localhost:8080/"
        },
        "id": "2XbEceuSis2k",
        "outputId": "b2fc013e-6266-43b0-c047-89ebd0212e88"
      },
      "source": [
        "from sklearn.linear_model import LinearRegression\n",
        "lin_reg = LinearRegression()\n",
        "lin_reg.fit(x_train, y_train)\n",
        "y_pred = lin_reg.predict(x_test)\n",
        "y_pred"
      ],
      "execution_count": 74,
      "outputs": [
        {
          "output_type": "execute_result",
          "data": {
            "text/plain": [
              "array([0.73772384, 0.73324024, 0.76897557, 0.69290696, 0.7445807 ,\n",
              "       0.73836867, 0.72183512, 0.70883203, 0.78811974, 0.80297954,\n",
              "       0.77414257])"
            ]
          },
          "metadata": {},
          "execution_count": 74
        }
      ]
    },
    {
      "cell_type": "code",
      "metadata": {
        "id": "h8IFieXYiASY"
      },
      "source": [
        "def CostFunction(x,y,w,b):\n",
        "    cost = np.sum((((x.dot(w) + b) - y) ** 2) / (2*len(y)))\n",
        "    return cost"
      ],
      "execution_count": 51,
      "outputs": []
    },
    {
      "cell_type": "code",
      "metadata": {
        "colab": {
          "base_uri": "https://localhost:8080/"
        },
        "id": "gZmn4jfyiboT",
        "outputId": "31bba1f7-21cc-44bd-f472-8f05a400d433"
      },
      "source": [
        "w, b, c = GradientDescent(x_train, y_train, np.zeros(x_train.shape[1]), 0, 0.002,epochs=15000)"
      ],
      "execution_count": 57,
      "outputs": [
        {
          "output_type": "stream",
          "name": "stdout",
          "text": [
            "Cost at epoch 0 is: 0.28359875183387384\n",
            "Cost at epoch 1500 is: 0.006004213913918493\n",
            "Cost at epoch 3000 is: 0.00522418078829362\n",
            "Cost at epoch 4500 is: 0.0051866918864058005\n",
            "Cost at epoch 6000 is: 0.005172231426597487\n",
            "Cost at epoch 7500 is: 0.005166368042651776\n",
            "Cost at epoch 9000 is: 0.005163989026453713\n",
            "Cost at epoch 10500 is: 0.005163023719321053\n",
            "Cost at epoch 12000 is: 0.005162632035328211\n",
            "Cost at epoch 13500 is: 0.005162473105141417\n"
          ]
        }
      ]
    },
    {
      "cell_type": "code",
      "metadata": {
        "colab": {
          "base_uri": "https://localhost:8080/",
          "height": 282
        },
        "id": "OLwF0y9pirpg",
        "outputId": "f3f0c0db-092b-4a14-ad4c-137b920e507e"
      },
      "source": [
        "plt.plot(c)"
      ],
      "execution_count": 58,
      "outputs": [
        {
          "output_type": "execute_result",
          "data": {
            "text/plain": [
              "[<matplotlib.lines.Line2D at 0x7f2c6f446610>]"
            ]
          },
          "metadata": {},
          "execution_count": 58
        },
        {
          "output_type": "display_data",
          "data": {
            "image/png": "[encoded data removed]",
            "text/plain": [
              "<Figure size 432x288 with 1 Axes>"
            ]
          },
          "metadata": {
            "needs_background": "light"
          }
        }
      ]
    },
    {
      "cell_type": "code",
      "metadata": {
        "id": "yEG9WqCRkSEm"
      },
      "source": [
        "def predict(X, w, b):\n",
        "    return X.dot(w) + b"
      ],
      "execution_count": 59,
      "outputs": []
    },
    {
      "cell_type": "code",
      "metadata": {
        "colab": {
          "base_uri": "https://localhost:8080/"
        },
        "id": "8pXSAdAZkY35",
        "outputId": "238686d2-22eb-4be8-ed01-884e4828b06b"
      },
      "source": [
        "y_pred_grad = predict(x_test, w, b)\n",
        "y_pred_grad"
      ],
      "execution_count": 67,
      "outputs": [
        {
          "output_type": "execute_result",
          "data": {
            "text/plain": [
              "array([0.73661717, 0.73258562, 0.76905528, 0.69286408, 0.74473405,\n",
              "       0.73833914, 0.72158764, 0.70891606, 0.78807536, 0.80314742,\n",
              "       0.77402328])"
            ]
          },
          "metadata": {},
          "execution_count": 67
        }
      ]
    },
    {
      "cell_type": "markdown",
      "metadata": {
        "id": "BxW-eP6Am5H6"
      },
      "source": [
        "**Calculating accuracy**"
      ]
    },
    {
      "cell_type": "code",
      "metadata": {
        "id": "8xKCUraCmrGG"
      },
      "source": [
        "def r2score(y_pred, y):\n",
        "    rss = np.sum((y_pred - y) ** 2)\n",
        "    tss = np.sum((y-y.mean()) ** 2)\n",
        "    \n",
        "    r2 = 1 - (rss / tss)\n",
        "    return r2"
      ],
      "execution_count": 73,
      "outputs": []
    },
    {
      "cell_type": "code",
      "metadata": {
        "colab": {
          "base_uri": "https://localhost:8080/"
        },
        "id": "KssXyV3smvT9",
        "outputId": "b9517684-b12b-4dc3-b79e-caa1e155f22c"
      },
      "source": [
        "r2score(y_pred, y_test)"
      ],
      "execution_count": 72,
      "outputs": [
        {
          "output_type": "execute_result",
          "data": {
            "text/plain": [
              "0.08531028730783374"
            ]
          },
          "metadata": {},
          "execution_count": 72
        }
      ]
    },
    {
      "cell_type": "code",
      "metadata": {
        "colab": {
          "base_uri": "https://localhost:8080/"
        },
        "id": "xfSTBM5nnmdO",
        "outputId": "ba117c2a-b149-4b40-da17-2d4185c2aed9"
      },
      "source": [
        "print('y_prediction \\t\\t y_prediction_gradient')\n",
        "for i in range(y_pred.size):\n",
        "  print(y_pred[i],'\\t', y_pred_grad[i])"
      ],
      "execution_count": 78,
      "outputs": [
        {
          "output_type": "stream",
          "name": "stdout",
          "text": [
            "y_prediction \t\t y_prediction_gradient\n",
            "0.7377238366604384 \t 0.7366171713319649\n",
            "0.7332402395975433 \t 0.7325856242605139\n",
            "0.7689755747788048 \t 0.7690552819115665\n",
            "0.6929069607789627 \t 0.6928640782240911\n",
            "0.7445807011480811 \t 0.7447340479938931\n",
            "0.7383686722898575 \t 0.7383391434567858\n",
            "0.7218351191574883 \t 0.7215876352395388\n",
            "0.7088320251682794 \t 0.7089160574717728\n",
            "0.7881197445550666 \t 0.7880753582825692\n",
            "0.8029795369943311 \t 0.803147417254388\n",
            "0.7741425669015922 \t 0.7740232819231205\n"
          ]
        }
      ]
    }
  ]
}