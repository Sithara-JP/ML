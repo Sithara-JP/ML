{
  "nbformat": 4,
  "nbformat_minor": 0,
  "metadata": {
    "colab": {
      "name": "CBENU4CSE19148_ML OLS.ipynb",
      "provenance": [],
      "collapsed_sections": []
    },
    "kernelspec": {
      "name": "python3",
      "display_name": "Python 3"
    },
    "language_info": {
      "name": "python"
    }
  },
  "cells": [
    {
      "cell_type": "code",
      "metadata": {
        "colab": {
          "base_uri": "https://localhost:8080/"
        },
        "id": "oYAfVvi4I1h0",
        "outputId": "b4750023-f5c2-45c0-dcb9-23bd93a6d3c5"
      },
      "source": [
        "n = int(input())\n",
        "x = []\n",
        "y = []\n",
        "for i in range(n):\n",
        "  xval, yval = input().split()\n",
        "  x.append(int(xval))\n",
        "  y.append(int(yval))\n",
        "xmean = sum(x)/len(x)\n",
        "ymean = sum(y)/len(y)\n",
        "a = []\n",
        "b = []\n",
        "e = []\n",
        "for j in x:\n",
        "  a.append(j-xmean)\n",
        "for k in y:\n",
        "  b.append(k-ymean)\n",
        "for l in range(len(a)):\n",
        "  e.append(a[l]*b[l])\n",
        "c = []\n",
        "for m in range(len(a)):\n",
        "  c.append(a[m]*a[m])\n",
        "s1 = sum(c)\n",
        "s2 = sum(e)\n",
        "slope = s2/s1\n",
        "print(\"Mean of x values = \", xmean)\n",
        "print(\"Mean of y values = \", ymean)\n",
        "print(\"slope = \", slope)\n",
        "C0 = ymean - (slope * xmean)\n",
        "print(\"Equation of Regression Line is \", end = \" \")\n",
        "print(\"y = \", slope,\"x + \", C0)\n",
        "x = int(input(\"Enter the value for prediction \"))\n",
        "y = slope * x + (C0)\n",
        "print(\"Value is \", y)"
      ],
      "execution_count": 2,
      "outputs": [
        {
          "output_type": "stream",
          "text": [
            "11\n",
            "6 82\n",
            "10 88\n",
            "2 56\n",
            "4 64\n",
            "6 77\n",
            "7 92\n",
            "0 23\n",
            "1 41\n",
            "8 80\n",
            "5 59\n",
            "3 47\n",
            "Mean of x values =  4.7272727272727275\n",
            "Mean of y values =  64.45454545454545\n",
            "slope =  6.49131274131274\n",
            "Equation of Regression Line is  y =  6.49131274131274 x +  33.76833976833977\n",
            "Enter the value for prediction 12\n",
            "Value is  111.66409266409265\n"
          ],
          "name": "stdout"
        }
      ]
    }
  ]
}